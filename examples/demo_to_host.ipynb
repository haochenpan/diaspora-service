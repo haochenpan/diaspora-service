{
 "cells": [
  {
   "cell_type": "markdown",
   "metadata": {},
   "source": [
    "# Action Provider Demo: send requests directly to an AP endpoint"
   ]
  },
  {
   "cell_type": "markdown",
   "metadata": {},
   "source": [
    "### 1.1 Select an Action Provider Host"
   ]
  },
  {
   "cell_type": "code",
   "execution_count": null,
   "metadata": {},
   "outputs": [],
   "source": [
    "\"\"\"Use Diaspora AP directly through the access endpoint.\"\"\"\n",
    "\n",
    "from __future__ import annotations\n",
    "\n",
    "import json\n",
    "from random import choice\n",
    "from string import ascii_uppercase\n",
    "from time import time\n",
    "\n",
    "import requests\n",
    "from diaspora_event_sdk import Client as GlobusClient\n",
    "\n",
    "# ap_endpoint = 'http://127.0.0.1:8000/'\n",
    "ap_endpoint = 'https://diaspora-action-provider.ml22sevubfnks.us-east-1.cs.amazonlightsail.com'\n",
    "print('AP endpoint selected:', ap_endpoint)"
   ]
  },
  {
   "cell_type": "markdown",
   "metadata": {},
   "source": [
    "### 1.2 Retrieve Credential"
   ]
  },
  {
   "cell_type": "code",
   "execution_count": null,
   "metadata": {},
   "outputs": [],
   "source": [
    "# c = GlobusClient()\n",
    "# c.logout()"
   ]
  },
  {
   "cell_type": "code",
   "execution_count": null,
   "metadata": {},
   "outputs": [],
   "source": [
    "\"\"\"A hacky way to retrieve access token.\"\"\"\n",
    "c = GlobusClient()\n",
    "print(\"User's OpenID:\", c.subject_openid)\n",
    "tokens = c.login_manager._token_storage.get_token_data(\n",
    "    '2b9d2f5c-fa32-45b5-875b-b24cd343b917',\n",
    ")\n",
    "access_token = tokens['access_token']\n",
    "print(\"User's access token:\", access_token)"
   ]
  },
  {
   "cell_type": "markdown",
   "metadata": {},
   "source": [
    "### 1.3 Select a Topic"
   ]
  },
  {
   "cell_type": "code",
   "execution_count": null,
   "metadata": {},
   "outputs": [],
   "source": [
    "topic = 'topic-' + c.subject_openid[-12:]\n",
    "print(c.register_topic(topic))\n",
    "print(c.list_topics())\n",
    "print('Topic to produce/consume:', topic)"
   ]
  },
  {
   "cell_type": "markdown",
   "metadata": {},
   "source": [
    "### 1.4 Set request header"
   ]
  },
  {
   "cell_type": "code",
   "execution_count": null,
   "metadata": {},
   "outputs": [],
   "source": [
    "headers = {\n",
    "    'authorization': f'Bearer {access_token}',\n",
    "    'Content-Type': 'application/json',\n",
    "}"
   ]
  },
  {
   "cell_type": "code",
   "execution_count": null,
   "metadata": {},
   "outputs": [],
   "source": [
    "def request_and_get_response(\n",
    "    request_url: str,\n",
    "    request_header: dict,\n",
    "    request_data: dict,\n",
    ") -> None:\n",
    "    \"\"\"Send API request and get response.\"\"\"\n",
    "    response = requests.post(\n",
    "        request_url,\n",
    "        headers=request_header,\n",
    "        json=request_data,\n",
    "    )\n",
    "\n",
    "    # Print the response from the server\n",
    "    print('Response status code:', response.status_code)\n",
    "    try:\n",
    "        response_content = response.content.decode('utf-8')\n",
    "        parsed_content = json.loads(response_content)\n",
    "        if (\n",
    "            'details' in parsed_content\n",
    "            and 'error' in parsed_content['details']\n",
    "        ):\n",
    "            error_msg = parsed_content['details']['error']\n",
    "            print('Response error msg:', error_msg)\n",
    "            print()\n",
    "        action_id = parsed_content['action_id']\n",
    "        formatted_content = json.dumps(parsed_content, indent=2)\n",
    "        print('Response content:', formatted_content)\n",
    "        return action_id\n",
    "    except Exception:\n",
    "        print('Should not happen - exception raised')\n",
    "        print(response.content)"
   ]
  },
  {
   "cell_type": "code",
   "execution_count": null,
   "metadata": {},
   "outputs": [],
   "source": [
    "def random_request_id() -> str:\n",
    "    \"\"\"Get a random request ID.\"\"\"\n",
    "    return str(''.join(choice(ascii_uppercase) for i in range(12)))"
   ]
  },
  {
   "cell_type": "markdown",
   "metadata": {},
   "source": [
    "### 2.1.1 Produce Messages to AP without msg keys"
   ]
  },
  {
   "cell_type": "code",
   "execution_count": null,
   "metadata": {},
   "outputs": [],
   "source": [
    "data = {\n",
    "    'request_id': '21110',\n",
    "    'body': {\n",
    "        'action': 'produce',\n",
    "        'topic': topic,\n",
    "        'msgs': [\n",
    "            {'content': 'hello world1'},\n",
    "            {'content': 'hello world2'},\n",
    "            {'content': 'hello world3'},\n",
    "        ],\n",
    "    },\n",
    "}\n",
    "request_and_get_response(f'{ap_endpoint}/run', headers, data)"
   ]
  },
  {
   "cell_type": "markdown",
   "metadata": {},
   "source": [
    "### 2.1.2: Error Case: `msgs` does not exist"
   ]
  },
  {
   "cell_type": "code",
   "execution_count": null,
   "metadata": {},
   "outputs": [],
   "source": [
    "data = {\n",
    "    'request_id': '212',\n",
    "    'body': {\n",
    "        'action': 'produce',\n",
    "        'topic': topic,\n",
    "    },\n",
    "}\n",
    "request_and_get_response(f'{ap_endpoint}/run', headers, data)"
   ]
  },
  {
   "cell_type": "markdown",
   "metadata": {},
   "source": [
    "### 2.1.3: Error Case: `msgs` is empty"
   ]
  },
  {
   "cell_type": "code",
   "execution_count": null,
   "metadata": {},
   "outputs": [],
   "source": [
    "data = {\n",
    "    'request_id': '213',\n",
    "    'body': {\n",
    "        'action': 'produce',\n",
    "        'topic': topic,\n",
    "        'msgs': [],\n",
    "    },\n",
    "}\n",
    "request_and_get_response(f'{ap_endpoint}/run', headers, data)"
   ]
  },
  {
   "cell_type": "markdown",
   "metadata": {},
   "source": [
    "### 2.1.4: Error Case: the topic does not exist (takes 10 seconds)"
   ]
  },
  {
   "cell_type": "code",
   "execution_count": null,
   "metadata": {},
   "outputs": [],
   "source": [
    "data = {\n",
    "    'request_id': '214',\n",
    "    'body': {\n",
    "        'action': 'produce',\n",
    "        'topic': '__badtopic',\n",
    "        'msgs': [\n",
    "            {'content': 'hello world1'},\n",
    "            {'content': 'hello world2'},\n",
    "            {'content': 'hello world3'},\n",
    "        ],\n",
    "    },\n",
    "}\n",
    "request_and_get_response(f'{ap_endpoint}/run', headers, data)"
   ]
  },
  {
   "cell_type": "markdown",
   "metadata": {},
   "source": [
    "### 2.2.1 Produce Messages to AP with a Single Key"
   ]
  },
  {
   "cell_type": "code",
   "execution_count": null,
   "metadata": {},
   "outputs": [],
   "source": [
    "data = {\n",
    "    'request_id': random_request_id(),\n",
    "    'body': {\n",
    "        'action': 'produce',\n",
    "        'topic': topic,\n",
    "        'msgs': [\n",
    "            {'content1': 'argonne national laboratory'},\n",
    "            {'content2': 'university of chicago'},\n",
    "            {'content3': 'johns hopkins university'},\n",
    "        ],\n",
    "        'keys': 'my-key',\n",
    "    },\n",
    "}\n",
    "request_and_get_response(f'{ap_endpoint}/run', headers, data)"
   ]
  },
  {
   "cell_type": "markdown",
   "metadata": {},
   "source": [
    "### 2.3.1 Produce Messages to AP with a List of Keys"
   ]
  },
  {
   "cell_type": "code",
   "execution_count": null,
   "metadata": {},
   "outputs": [],
   "source": [
    "data = {\n",
    "    'request_id': '231',\n",
    "    'body': {\n",
    "        'action': 'produce',\n",
    "        'topic': topic,\n",
    "        'msgs': [\n",
    "            {'content': 'hello world1'},\n",
    "            {'content': 'hello world2'},\n",
    "            {'content': 'hello world3'},\n",
    "        ],\n",
    "        'keys': ['my-key1', 'my-key2', 'my-key3'],\n",
    "    },\n",
    "}\n",
    "request_and_get_response(f'{ap_endpoint}/run', headers, data)"
   ]
  },
  {
   "cell_type": "markdown",
   "metadata": {},
   "source": [
    "### 2.3.2 Error case: the length of `keys` does not match the length of `msgs`"
   ]
  },
  {
   "cell_type": "code",
   "execution_count": null,
   "metadata": {},
   "outputs": [],
   "source": [
    "data = {\n",
    "    'request_id': '232',\n",
    "    'body': {\n",
    "        'action': 'produce',\n",
    "        'topic': topic,\n",
    "        'msgs': [\n",
    "            {'content': 'hello world1'},\n",
    "            {'content': 'hello world2'},\n",
    "            {'content': 'hello world3'},\n",
    "        ],\n",
    "        'keys': ['my-key1', 'my-key2'],\n",
    "    },\n",
    "}\n",
    "request_and_get_response(f'{ap_endpoint}/run', headers, data)"
   ]
  },
  {
   "cell_type": "markdown",
   "metadata": {},
   "source": [
    "### 3.1.1: Consume All Messages (no `ts` nor `group_id`)"
   ]
  },
  {
   "cell_type": "code",
   "execution_count": null,
   "metadata": {},
   "outputs": [],
   "source": [
    "data = {\n",
    "    'request_id': '311',\n",
    "    'body': {\n",
    "        'action': 'consume',\n",
    "        'topic': topic,\n",
    "    },\n",
    "}\n",
    "request_and_get_response(f'{ap_endpoint}/run', headers, data)"
   ]
  },
  {
   "cell_type": "markdown",
   "metadata": {},
   "source": [
    "### 3.1.2: Consume Messages since the Current Timestamp (has `ts` but no `group_id`)"
   ]
  },
  {
   "cell_type": "code",
   "execution_count": null,
   "metadata": {},
   "outputs": [],
   "source": [
    "ts_now = int(time()) * 1000"
   ]
  },
  {
   "cell_type": "code",
   "execution_count": null,
   "metadata": {},
   "outputs": [],
   "source": [
    "data = {\n",
    "    'request_id': '312',\n",
    "    'body': {\n",
    "        'action': 'consume',\n",
    "        'topic': topic,\n",
    "        'ts': ts_now,\n",
    "    },\n",
    "}\n",
    "request_and_get_response(f'{ap_endpoint}/run', headers, data)"
   ]
  },
  {
   "cell_type": "code",
   "execution_count": null,
   "metadata": {},
   "outputs": [],
   "source": [
    "data = {\n",
    "    'request_id': '3121',\n",
    "    'body': {\n",
    "        'action': 'produce',\n",
    "        'topic': topic,\n",
    "        'msgs': [\n",
    "            {'content': 'hello world1'},\n",
    "            {'content': 'hello world2'},\n",
    "            {'content': 'hello world3'},\n",
    "        ],\n",
    "    },\n",
    "}\n",
    "request_and_get_response(f'{ap_endpoint}/run', headers, data)"
   ]
  },
  {
   "cell_type": "code",
   "execution_count": null,
   "metadata": {},
   "outputs": [],
   "source": [
    "data = {\n",
    "    'request_id': '312',\n",
    "    'body': {\n",
    "        'action': 'consume',\n",
    "        'topic': topic,\n",
    "        'ts': ts_now,\n",
    "    },\n",
    "}\n",
    "request_and_get_response(f'{ap_endpoint}/run', headers, data)"
   ]
  },
  {
   "cell_type": "markdown",
   "metadata": {},
   "source": [
    "### 3.1.3: Error case: the topic does not exist"
   ]
  },
  {
   "cell_type": "code",
   "execution_count": null,
   "metadata": {},
   "outputs": [],
   "source": [
    "data = {\n",
    "    'request_id': '313',\n",
    "    'body': {\n",
    "        'action': 'consume',\n",
    "        'topic': '__badtopic',\n",
    "        'ts': 1717532033372,\n",
    "    },\n",
    "}\n",
    "request_and_get_response(f'{ap_endpoint}/run', headers, data)"
   ]
  },
  {
   "cell_type": "markdown",
   "metadata": {},
   "source": [
    "### 3.1.4: Error case: the user does not have access "
   ]
  },
  {
   "cell_type": "code",
   "execution_count": null,
   "metadata": {},
   "outputs": [],
   "source": [
    "data = {\n",
    "    'request_id': '314',\n",
    "    'body': {\n",
    "        'action': 'consume',\n",
    "        'topic': 'diaspora-cicd',\n",
    "        'ts': 1715930522000,\n",
    "    },\n",
    "}\n",
    "request_and_get_response(f'{ap_endpoint}/run', headers, data)"
   ]
  },
  {
   "cell_type": "markdown",
   "metadata": {},
   "source": [
    "### 3.2.1 Consume with a Prefix Filter"
   ]
  },
  {
   "cell_type": "code",
   "execution_count": null,
   "metadata": {},
   "outputs": [],
   "source": [
    "data = {\n",
    "    'request_id': '321',\n",
    "    'body': {\n",
    "        'action': 'consume',\n",
    "        'topic': topic,\n",
    "        'ts': ts_now,\n",
    "        'filters': [\n",
    "            {'Pattern': {'value': {'content': [{'prefix': 'hello world1'}]}}},\n",
    "        ],\n",
    "    },\n",
    "}\n",
    "request_and_get_response(f'{ap_endpoint}/run', headers, data)"
   ]
  },
  {
   "cell_type": "markdown",
   "metadata": {},
   "source": [
    "### 3.2.2 Consume with a Filter that has Multiple Conditions (cond1 AND cond2)"
   ]
  },
  {
   "cell_type": "code",
   "execution_count": null,
   "metadata": {},
   "outputs": [],
   "source": [
    "data = {\n",
    "    'request_id': '322',\n",
    "    'body': {\n",
    "        'action': 'consume',\n",
    "        'topic': topic,\n",
    "        'ts': ts_now,\n",
    "        'filters': [\n",
    "            {\n",
    "                'Pattern': {\n",
    "                    'value': {\n",
    "                        'content': [\n",
    "                            {'prefix': 'hello', 'suffix': 'world2'},\n",
    "                        ],\n",
    "                    },\n",
    "                },\n",
    "            },\n",
    "        ],\n",
    "    },\n",
    "}\n",
    "request_and_get_response(f'{ap_endpoint}/run', headers, data)"
   ]
  },
  {
   "cell_type": "markdown",
   "metadata": {},
   "source": [
    "### 3.2.3 Consume with Multiple Filters (filter1 OR filter2)"
   ]
  },
  {
   "cell_type": "code",
   "execution_count": null,
   "metadata": {},
   "outputs": [],
   "source": [
    "data = {\n",
    "    'request_id': '323',\n",
    "    'body': {\n",
    "        'action': 'consume',\n",
    "        'topic': topic,\n",
    "        'ts': ts_now,\n",
    "        'filters': [\n",
    "            {'Pattern': {'value': {'content': [{'prefix': 'hello world1'}]}}},\n",
    "            {'Pattern': {'value': {'content': [{'suffix': 'hello world2'}]}}},\n",
    "        ],\n",
    "    },\n",
    "}\n",
    "request_and_get_response(f'{ap_endpoint}/run', headers, data)"
   ]
  },
  {
   "cell_type": "markdown",
   "metadata": {},
   "source": [
    "### 3.2.4 Consume with Multiple Filters (repeated filters do not return repeated msgs)"
   ]
  },
  {
   "cell_type": "code",
   "execution_count": null,
   "metadata": {},
   "outputs": [],
   "source": [
    "data = {\n",
    "    'request_id': '324',\n",
    "    'body': {\n",
    "        'action': 'consume',\n",
    "        'topic': topic,\n",
    "        'ts': ts_now,\n",
    "        'filters': [\n",
    "            {'Pattern': {'value': {'content': [{'prefix': 'hello world1'}]}}},\n",
    "            {'Pattern': {'value': {'content': [{'suffix': 'hello world1'}]}}},\n",
    "        ],\n",
    "    },\n",
    "}\n",
    "request_and_get_response(f'{ap_endpoint}/run', headers, data)"
   ]
  },
  {
   "cell_type": "markdown",
   "metadata": {},
   "source": [
    "### 3.2.5 Error case: Consume with a Bad Filter"
   ]
  },
  {
   "cell_type": "code",
   "execution_count": null,
   "metadata": {},
   "outputs": [],
   "source": [
    "data = {\n",
    "    'request_id': '325',\n",
    "    'body': {\n",
    "        'action': 'consume',\n",
    "        'topic': topic,\n",
    "        'ts': ts_now,\n",
    "        'filters': [\n",
    "            {\n",
    "                'BadPattern': {\n",
    "                    'value': {'content': [{'prefix': 'hello world1'}]},\n",
    "                },\n",
    "            },\n",
    "            {'Pattern': {'value': {'content': [{'suffix': 'hello world1'}]}}},\n",
    "        ],\n",
    "    },\n",
    "}\n",
    "request_and_get_response(f'{ap_endpoint}/run', headers, data)"
   ]
  },
  {
   "cell_type": "markdown",
   "metadata": {},
   "source": [
    "### 3.3.1 Consume with a `group_id` but no `ts` provided"
   ]
  },
  {
   "cell_type": "code",
   "execution_count": null,
   "metadata": {},
   "outputs": [],
   "source": [
    "data = {\n",
    "    'request_id': '3310',\n",
    "    'body': {\n",
    "        'action': 'consume',\n",
    "        'topic': topic,\n",
    "        'group_id': 'my-group12',\n",
    "    },\n",
    "}\n",
    "request_and_get_response(f'{ap_endpoint}/run', headers, data)"
   ]
  },
  {
   "cell_type": "markdown",
   "metadata": {},
   "source": [
    "### 3.3.2 The same request body does not return new msgs under the same `group_id` since the last one was successful"
   ]
  },
  {
   "cell_type": "code",
   "execution_count": null,
   "metadata": {},
   "outputs": [],
   "source": [
    "data = {\n",
    "    'request_id': '33200',\n",
    "    'body': {\n",
    "        'action': 'consume',\n",
    "        'topic': topic,\n",
    "        'group_id': 'my-group12',\n",
    "    },\n",
    "}\n",
    "request_and_get_response(f'{ap_endpoint}/run', headers, data)"
   ]
  },
  {
   "cell_type": "code",
   "execution_count": null,
   "metadata": {},
   "outputs": [],
   "source": [
    "data = {\n",
    "    'request_id': '33111',\n",
    "    'body': {\n",
    "        'action': 'produce',\n",
    "        'topic': topic,\n",
    "        'msgs': [\n",
    "            {'content': 'hello world1'},\n",
    "            {'content': 'hello world2'},\n",
    "            {'content': 'hello world3'},\n",
    "        ],\n",
    "    },\n",
    "}\n",
    "request_and_get_response(f'{ap_endpoint}/run', headers, data)"
   ]
  },
  {
   "cell_type": "code",
   "execution_count": null,
   "metadata": {},
   "outputs": [],
   "source": [
    "data = {\n",
    "    'request_id': '3310',\n",
    "    'body': {\n",
    "        'action': 'consume',\n",
    "        'topic': topic,\n",
    "        'group_id': 'my-group12',\n",
    "    },\n",
    "}\n",
    "request_and_get_response(f'{ap_endpoint}/run', headers, data)"
   ]
  },
  {
   "cell_type": "markdown",
   "metadata": {},
   "source": [
    "### 3.3.3 Consume with a `group_id` and a `ts` (all retrieved msgs >= `ts`, if there's any)"
   ]
  },
  {
   "cell_type": "code",
   "execution_count": null,
   "metadata": {},
   "outputs": [],
   "source": [
    "data = {\n",
    "    'request_id': '333000',\n",
    "    'body': {\n",
    "        'action': 'consume',\n",
    "        'topic': topic,\n",
    "        'group_id': 'my-group12',\n",
    "        'ts': 1715930522000,\n",
    "    },\n",
    "}\n",
    "action_id = request_and_get_response(f'{ap_endpoint}/run', headers, data)\n",
    "print(action_id)"
   ]
  },
  {
   "cell_type": "markdown",
   "metadata": {},
   "source": [
    "### 4.1.1 Check Request Status"
   ]
  },
  {
   "cell_type": "code",
   "execution_count": null,
   "metadata": {},
   "outputs": [],
   "source": [
    "print(action_id)\n",
    "\n",
    "response = requests.get(\n",
    "    f'{ap_endpoint}/{action_id}/status',\n",
    "    headers={'authorization': f'Bearer {access_token}'},\n",
    ")\n",
    "\n",
    "# Print the response from the server\n",
    "print('Response status code:', response.status_code)\n",
    "response_content = response.content.decode('utf-8')\n",
    "parsed_content = json.loads(response_content)\n",
    "formatted_content = json.dumps(parsed_content, indent=2)\n",
    "print('Response content:', formatted_content)"
   ]
  },
  {
   "cell_type": "markdown",
   "metadata": {},
   "source": [
    "### 4.1.2 Check Request Status of an non-exist `action_id`\n",
    "The same will happen for the action id above after TTL timeout."
   ]
  },
  {
   "cell_type": "code",
   "execution_count": null,
   "metadata": {},
   "outputs": [],
   "source": [
    "action_id = '1mX5FKSJTFMy'\n",
    "\n",
    "response = requests.get(\n",
    "    f'{ap_endpoint}/{action_id}/status',\n",
    "    headers={'authorization': f'Bearer {access_token}'},\n",
    ")\n",
    "\n",
    "# Print the response from the server\n",
    "print('Response status code:', response.status_code)\n",
    "response_content = response.content.decode('utf-8')\n",
    "parsed_content = json.loads(response_content)\n",
    "formatted_content = json.dumps(parsed_content, indent=2)\n",
    "print('Response content:', formatted_content)"
   ]
  },
  {
   "cell_type": "markdown",
   "metadata": {},
   "source": [
    "### 4.1.3 Create an active Request, Check Status, Cancel it, and Check the Status again"
   ]
  },
  {
   "cell_type": "code",
   "execution_count": null,
   "metadata": {},
   "outputs": [],
   "source": [
    "data = {\n",
    "    'request_id': '4130',\n",
    "    'body': {\n",
    "        'action': 'consume',\n",
    "        'topic': topic,\n",
    "        'group_id': 'my-group12',\n",
    "        'ts': 1715930522000,\n",
    "    },\n",
    "}\n",
    "action_id = request_and_get_response(f'{ap_endpoint}/run', headers, data)\n",
    "print(action_id)"
   ]
  },
  {
   "cell_type": "code",
   "execution_count": null,
   "metadata": {},
   "outputs": [],
   "source": [
    "data = {\n",
    "    'request_id': '4131',\n",
    "    'body': {\n",
    "        'action': 'consume',\n",
    "        'topic': topic,\n",
    "        'group_id': 'my-group12',\n",
    "        'ts': 1715930522000,\n",
    "    },\n",
    "}\n",
    "action_id = request_and_get_response(f'{ap_endpoint}/run', headers, data)\n",
    "print(action_id)"
   ]
  },
  {
   "cell_type": "markdown",
   "metadata": {},
   "source": [
    "Should still be ACTIVE"
   ]
  },
  {
   "cell_type": "code",
   "execution_count": null,
   "metadata": {},
   "outputs": [],
   "source": [
    "response = requests.get(\n",
    "    f'{ap_endpoint}/{action_id}/status',\n",
    "    headers={'authorization': f'Bearer {access_token}'},\n",
    ")\n",
    "\n",
    "# Print the response from the server\n",
    "print('Response status code:', response.status_code)\n",
    "response_content = response.content.decode('utf-8')\n",
    "parsed_content = json.loads(response_content)\n",
    "formatted_content = json.dumps(parsed_content, indent=2)\n",
    "print('Response content:', formatted_content)"
   ]
  },
  {
   "cell_type": "code",
   "execution_count": null,
   "metadata": {},
   "outputs": [],
   "source": [
    "response = requests.post(\n",
    "    f'{ap_endpoint}/{action_id}/cancel',\n",
    "    headers={'authorization': f'Bearer {access_token}'},\n",
    ")\n",
    "\n",
    "# Print the response from the server\n",
    "print('Response status code:', response.status_code)\n",
    "response_content = response.content.decode('utf-8')\n",
    "parsed_content = json.loads(response_content)\n",
    "formatted_content = json.dumps(parsed_content, indent=2)\n",
    "print('Response content:', formatted_content)"
   ]
  },
  {
   "cell_type": "markdown",
   "metadata": {},
   "source": [
    "### 4.1.4 Release the Request\n",
    "\n",
    "Create a request"
   ]
  },
  {
   "cell_type": "code",
   "execution_count": null,
   "metadata": {},
   "outputs": [],
   "source": [
    "data = {\n",
    "    'request_id': '4140',\n",
    "    'body': {\n",
    "        'action': 'consume',\n",
    "        'topic': topic,\n",
    "        'group_id': 'my-group12',\n",
    "        'ts': 1715930522000,\n",
    "    },\n",
    "}\n",
    "action_id = request_and_get_response(f'{ap_endpoint}/run', headers, data)\n",
    "print(action_id)"
   ]
  },
  {
   "cell_type": "markdown",
   "metadata": {},
   "source": [
    "Error: Try to release an active request"
   ]
  },
  {
   "cell_type": "code",
   "execution_count": null,
   "metadata": {},
   "outputs": [],
   "source": [
    "response = requests.post(\n",
    "    f'{ap_endpoint}/{action_id}/release',\n",
    "    headers={'authorization': f'Bearer {access_token}'},\n",
    ")\n",
    "\n",
    "# Print the response from the server\n",
    "print('Response status code:', response.status_code)\n",
    "response_content = response.content.decode('utf-8')\n",
    "parsed_content = json.loads(response_content)\n",
    "formatted_content = json.dumps(parsed_content, indent=2)\n",
    "print('Response content:', formatted_content)"
   ]
  },
  {
   "cell_type": "markdown",
   "metadata": {},
   "source": [
    "Cancel the request first to release it"
   ]
  },
  {
   "cell_type": "code",
   "execution_count": null,
   "metadata": {},
   "outputs": [],
   "source": [
    "response = requests.post(\n",
    "    f'{ap_endpoint}/{action_id}/cancel',\n",
    "    headers={'authorization': f'Bearer {access_token}'},\n",
    ")\n",
    "\n",
    "# Print the response from the server\n",
    "print('Response status code:', response.status_code)\n",
    "response_content = response.content.decode('utf-8')\n",
    "parsed_content = json.loads(response_content)\n",
    "formatted_content = json.dumps(parsed_content, indent=2)\n",
    "print('Response content:', formatted_content)"
   ]
  },
  {
   "cell_type": "markdown",
   "metadata": {},
   "source": [
    "Check the request status"
   ]
  },
  {
   "cell_type": "code",
   "execution_count": null,
   "metadata": {},
   "outputs": [],
   "source": [
    "response = requests.get(\n",
    "    f'{ap_endpoint}/{action_id}/status',\n",
    "    headers={'authorization': f'Bearer {access_token}'},\n",
    ")\n",
    "\n",
    "# Print the response from the server\n",
    "print('Response status code:', response.status_code)\n",
    "response_content = response.content.decode('utf-8')\n",
    "parsed_content = json.loads(response_content)\n",
    "formatted_content = json.dumps(parsed_content, indent=2)\n",
    "print('Response content:', formatted_content)"
   ]
  },
  {
   "cell_type": "markdown",
   "metadata": {},
   "source": [
    "Error: try to release the request again"
   ]
  },
  {
   "cell_type": "code",
   "execution_count": null,
   "metadata": {},
   "outputs": [],
   "source": [
    "response = requests.post(\n",
    "    f'{ap_endpoint}/{action_id}/release',\n",
    "    headers={'authorization': f'Bearer {access_token}'},\n",
    ")\n",
    "\n",
    "# Print the response from the server\n",
    "print('Response status code:', response.status_code)\n",
    "response_content = response.content.decode('utf-8')\n",
    "parsed_content = json.loads(response_content)\n",
    "formatted_content = json.dumps(parsed_content, indent=2)\n",
    "print('Response content:', formatted_content)"
   ]
  },
  {
   "cell_type": "markdown",
   "metadata": {},
   "source": []
  }
 ],
 "metadata": {
  "kernelspec": {
   "display_name": "venv",
   "language": "python",
   "name": "python3"
  },
  "language_info": {
   "codemirror_mode": {
    "name": "ipython",
    "version": 3
   },
   "file_extension": ".py",
   "mimetype": "text/x-python",
   "name": "python",
   "nbconvert_exporter": "python",
   "pygments_lexer": "ipython3",
   "version": "3.11.9"
  }
 },
 "nbformat": 4,
 "nbformat_minor": 2
}
