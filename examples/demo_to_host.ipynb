{
 "cells": [
  {
   "cell_type": "markdown",
   "metadata": {},
   "source": [
    "# Action Provider Demo: send requests to an AP endpoint"
   ]
  },
  {
   "cell_type": "markdown",
   "metadata": {},
   "source": [
    "## 1. Setup"
   ]
  },
  {
   "cell_type": "markdown",
   "metadata": {},
   "source": [
    "### 1.1 Select an Action Provider host"
   ]
  },
  {
   "cell_type": "code",
   "execution_count": null,
   "metadata": {},
   "outputs": [],
   "source": [
    "\"\"\"Use Diaspora AP directly through the access endpoint.\"\"\"\n",
    "\n",
    "from __future__ import annotations\n",
    "\n",
    "import json\n",
    "from random import choice\n",
    "from string import ascii_uppercase\n",
    "from time import time\n",
    "\n",
    "import requests\n",
    "from diaspora_event_sdk import Client as GlobusClient\n",
    "\n",
    "PRINT_RESPONSE = False\n",
    "\n",
    "ap_endpoint = 'http://127.0.0.1:8000/'\n",
    "# ap_endpoint = 'https://diaspora-action-provider.ml22sevubfnks.us-east-1.cs.amazonlightsail.com'\n",
    "print('AP endpoint selected:', ap_endpoint)"
   ]
  },
  {
   "cell_type": "markdown",
   "metadata": {},
   "source": [
    "### 1.2 Retrieve credential"
   ]
  },
  {
   "cell_type": "code",
   "execution_count": null,
   "metadata": {},
   "outputs": [],
   "source": [
    "# c = GlobusClient()\n",
    "# c.logout()"
   ]
  },
  {
   "cell_type": "code",
   "execution_count": null,
   "metadata": {},
   "outputs": [],
   "source": [
    "\"\"\"A hacky way to retrieve access token.\"\"\"\n",
    "c = GlobusClient()\n",
    "print(\"User's OpenID:\", c.subject_openid)\n",
    "tokens = c.login_manager._token_storage.get_token_data(\n",
    "    '2b9d2f5c-fa32-45b5-875b-b24cd343b917',\n",
    ")\n",
    "access_token = tokens['access_token']\n",
    "print(\"User's access token:\", access_token)"
   ]
  },
  {
   "cell_type": "markdown",
   "metadata": {},
   "source": [
    "### 1.3 Select a topic"
   ]
  },
  {
   "cell_type": "code",
   "execution_count": null,
   "metadata": {},
   "outputs": [],
   "source": [
    "topic = 'topic1-' + c.subject_openid[-12:]\n",
    "print(c.register_topic(topic))\n",
    "print(c.list_topics())\n",
    "print('Topic to produce/consume:', topic)"
   ]
  },
  {
   "cell_type": "markdown",
   "metadata": {},
   "source": [
    "### 1.4 Set request header"
   ]
  },
  {
   "cell_type": "code",
   "execution_count": null,
   "metadata": {},
   "outputs": [],
   "source": [
    "headers = {\n",
    "    'authorization': f'Bearer {access_token}',\n",
    "    'Content-Type': 'application/json',\n",
    "}"
   ]
  },
  {
   "cell_type": "markdown",
   "metadata": {},
   "source": [
    "### 1.5 Helper functions"
   ]
  },
  {
   "cell_type": "code",
   "execution_count": null,
   "metadata": {},
   "outputs": [],
   "source": [
    "def request_and_get_response(\n",
    "    request_url: str,\n",
    "    request_header: dict,\n",
    "    request_data: dict,\n",
    ") -> None:\n",
    "    \"\"\"Send API request and get response.\"\"\"\n",
    "    response = requests.post(\n",
    "        request_url,\n",
    "        headers=request_header,\n",
    "        json=request_data,\n",
    "    )\n",
    "\n",
    "    # print('Response status code:', response.status_code)\n",
    "    try:\n",
    "        response_content = response.content.decode('utf-8')\n",
    "        parsed_content = json.loads(response_content)\n",
    "        print(parsed_content)\n",
    "        return parsed_content\n",
    "\n",
    "    except Exception:\n",
    "        print('Should not happen - exception raised')\n",
    "        print(response.content)"
   ]
  },
  {
   "cell_type": "code",
   "execution_count": null,
   "metadata": {},
   "outputs": [],
   "source": [
    "def random_request_id() -> str:\n",
    "    \"\"\"Get a random request ID.\"\"\"\n",
    "    return str(''.join(choice(ascii_uppercase) for i in range(12)))"
   ]
  },
  {
   "cell_type": "markdown",
   "metadata": {},
   "source": [
    "## 2.0 Produce a single message to AP with `key` and `value`"
   ]
  },
  {
   "cell_type": "markdown",
   "metadata": {},
   "source": [
    "### 2.0.1 Produce a single message without `key`"
   ]
  },
  {
   "cell_type": "code",
   "execution_count": null,
   "metadata": {},
   "outputs": [],
   "source": [
    "data = {\n",
    "    'request_id': random_request_id(),\n",
    "    'body': {\n",
    "        'action': 'produce',\n",
    "        'topic': topic,\n",
    "        'value': {'content': 'hello world1'},\n",
    "    },\n",
    "}\n",
    "resp = request_and_get_response(f'{ap_endpoint}/run', headers, data)\n",
    "assert resp['status'] == 'SUCCEEDED'"
   ]
  },
  {
   "cell_type": "markdown",
   "metadata": {},
   "source": [
    "### 2.0.2 Produce a single message to AP with `key`"
   ]
  },
  {
   "cell_type": "code",
   "execution_count": null,
   "metadata": {},
   "outputs": [],
   "source": [
    "data = {\n",
    "    'request_id': random_request_id(),\n",
    "    'body': {\n",
    "        'action': 'produce',\n",
    "        'topic': topic,\n",
    "        'key': 'my-key-123',\n",
    "        'value': {'content': 'hello world1'},\n",
    "    },\n",
    "}\n",
    "resp = request_and_get_response(f'{ap_endpoint}/run', headers, data)\n",
    "assert resp['status'] == 'SUCCEEDED'"
   ]
  },
  {
   "cell_type": "markdown",
   "metadata": {},
   "source": [
    "## 2.1 Produce a batch of messages to AP with `keys` and `msgs`"
   ]
  },
  {
   "cell_type": "markdown",
   "metadata": {},
   "source": [
    "### 2.1.1 Produce messages to AP without keys"
   ]
  },
  {
   "cell_type": "code",
   "execution_count": null,
   "metadata": {},
   "outputs": [],
   "source": [
    "data = {\n",
    "    'request_id': random_request_id(),\n",
    "    'body': {\n",
    "        'action': 'produce',\n",
    "        'topic': topic,\n",
    "        'msgs': [\n",
    "            {'content': 'hello world1'},\n",
    "            {'content': 'hello world2'},\n",
    "            {'content': 'hello world3'},\n",
    "        ],\n",
    "    },\n",
    "}\n",
    "resp = request_and_get_response(f'{ap_endpoint}/run', headers, data)\n",
    "assert resp['status'] == 'SUCCEEDED'"
   ]
  },
  {
   "cell_type": "markdown",
   "metadata": {},
   "source": [
    "### 2.1.2 Produce messages to AP with a key"
   ]
  },
  {
   "cell_type": "code",
   "execution_count": null,
   "metadata": {},
   "outputs": [],
   "source": [
    "data = {\n",
    "    'request_id': random_request_id(),\n",
    "    'body': {\n",
    "        'action': 'produce',\n",
    "        'topic': topic,\n",
    "        'msgs': [\n",
    "            {'content': 'argonne national laboratory'},\n",
    "            {'content': 'university of chicago'},\n",
    "            {'content': 'johns hopkins university'},\n",
    "        ],\n",
    "        'keys': 'my-key-123',\n",
    "    },\n",
    "}\n",
    "resp = request_and_get_response(f'{ap_endpoint}/run', headers, data)\n",
    "assert resp['status'] == 'SUCCEEDED'"
   ]
  },
  {
   "cell_type": "markdown",
   "metadata": {},
   "source": [
    "### 2.1.3 Produce messages to AP with a list of keys"
   ]
  },
  {
   "cell_type": "code",
   "execution_count": null,
   "metadata": {},
   "outputs": [],
   "source": [
    "data = {\n",
    "    'request_id': '231',\n",
    "    'body': {\n",
    "        'action': 'produce',\n",
    "        'topic': topic,\n",
    "        'msgs': [\n",
    "            {'content': 'hello world1'},\n",
    "            {'content': 'hello world2'},\n",
    "            {'content': 'hello world3'},\n",
    "        ],\n",
    "        'keys': ['my-key1', 'my-key2', 'my-key3'],\n",
    "    },\n",
    "}\n",
    "resp = request_and_get_response(f'{ap_endpoint}/run', headers, data)\n",
    "assert resp['status'] == 'SUCCEEDED'"
   ]
  },
  {
   "cell_type": "markdown",
   "metadata": {},
   "source": [
    "### 2.1.2: Error case: `msgs` does not exist"
   ]
  },
  {
   "cell_type": "code",
   "execution_count": null,
   "metadata": {},
   "outputs": [],
   "source": [
    "data = {\n",
    "    'request_id': random_request_id(),\n",
    "    'body': {\n",
    "        'action': 'produce',\n",
    "        'topic': topic,\n",
    "    },\n",
    "}\n",
    "resp = request_and_get_response(f'{ap_endpoint}/run', headers, data)\n",
    "assert resp['status'] == 'FAILED'\n",
    "print(resp['details']['error'])"
   ]
  },
  {
   "cell_type": "markdown",
   "metadata": {},
   "source": [
    "### 2.1.3: Error Case: `msgs` is empty"
   ]
  },
  {
   "cell_type": "code",
   "execution_count": null,
   "metadata": {},
   "outputs": [],
   "source": [
    "data = {\n",
    "    'request_id': random_request_id(),\n",
    "    'body': {\n",
    "        'action': 'produce',\n",
    "        'topic': topic,\n",
    "        'msgs': [],\n",
    "    },\n",
    "}\n",
    "resp = request_and_get_response(f'{ap_endpoint}/run', headers, data)\n",
    "assert resp['status'] == 'FAILED'\n",
    "print(resp['details']['error'])"
   ]
  },
  {
   "cell_type": "markdown",
   "metadata": {},
   "source": [
    "### 2.1.4: Error case: the topic does not exist (takes 10 seconds)"
   ]
  },
  {
   "cell_type": "code",
   "execution_count": null,
   "metadata": {},
   "outputs": [],
   "source": [
    "data = {\n",
    "    'request_id': random_request_id(),\n",
    "    'body': {\n",
    "        'action': 'produce',\n",
    "        'topic': '__badtopic',\n",
    "        'msgs': [\n",
    "            {'content': 'hello world1'},\n",
    "            {'content': 'hello world2'},\n",
    "            {'content': 'hello world3'},\n",
    "        ],\n",
    "    },\n",
    "}\n",
    "resp = request_and_get_response(f'{ap_endpoint}/run', headers, data)\n",
    "assert resp['status'] == 'FAILED'\n",
    "print(resp['details']['error'])"
   ]
  },
  {
   "cell_type": "markdown",
   "metadata": {},
   "source": [
    "### 2.1.7 Error case: the length of `keys` does not match the length of `msgs`"
   ]
  },
  {
   "cell_type": "code",
   "execution_count": null,
   "metadata": {},
   "outputs": [],
   "source": [
    "data = {\n",
    "    'request_id': '232',\n",
    "    'body': {\n",
    "        'action': 'produce',\n",
    "        'topic': topic,\n",
    "        'msgs': [\n",
    "            {'content': 'hello world1'},\n",
    "            {'content': 'hello world2'},\n",
    "            {'content': 'hello world3'},\n",
    "        ],\n",
    "        'keys': ['my-key1', 'my-key2'],\n",
    "    },\n",
    "}\n",
    "resp = request_and_get_response(f'{ap_endpoint}/run', headers, data)\n",
    "assert resp['status'] == 'FAILED'\n",
    "print(resp['details']['error'])"
   ]
  },
  {
   "cell_type": "markdown",
   "metadata": {},
   "source": [
    "## 3.1 Consume messages without filters"
   ]
  },
  {
   "cell_type": "markdown",
   "metadata": {},
   "source": [
    "### 3.1.0 Produce a few more messages"
   ]
  },
  {
   "cell_type": "code",
   "execution_count": null,
   "metadata": {},
   "outputs": [],
   "source": [
    "data = {\n",
    "    'request_id': random_request_id(),\n",
    "    'body': {\n",
    "        'action': 'produce',\n",
    "        'topic': topic,\n",
    "        'msgs': [\n",
    "            {'content': 'hello world1'},\n",
    "            {'content': 'hello world2'},\n",
    "            {'content': 'hello world3'},\n",
    "        ],\n",
    "    },\n",
    "}\n",
    "resp = request_and_get_response(f'{ap_endpoint}/run', headers, data)\n",
    "assert resp['status'] == 'SUCCEEDED'"
   ]
  },
  {
   "cell_type": "markdown",
   "metadata": {},
   "source": [
    "### 3.1.1: Consume all messages (without `ts`, without `group_id`)"
   ]
  },
  {
   "cell_type": "code",
   "execution_count": null,
   "metadata": {},
   "outputs": [],
   "source": [
    "data = {\n",
    "    'request_id': random_request_id(),\n",
    "    'body': {\n",
    "        'action': 'consume',\n",
    "        'topic': topic,\n",
    "    },\n",
    "}\n",
    "resp = request_and_get_response(f'{ap_endpoint}/run', headers, data)\n",
    "assert resp['status'] == 'SUCCEEDED'\n",
    "for topic_partition, messages in resp['details'].items():\n",
    "    print('topic =', topic_partition, 'number of msgs =', len(messages))"
   ]
  },
  {
   "cell_type": "markdown",
   "metadata": {},
   "source": [
    "### 3.1.2: Consume messages within one hour (with `ts`, without `group_id`)"
   ]
  },
  {
   "cell_type": "code",
   "execution_count": null,
   "metadata": {},
   "outputs": [],
   "source": [
    "one_hour_ago = (int(time()) - 3600) * 1000\n",
    "data = {\n",
    "    'request_id': random_request_id(),\n",
    "    'body': {\n",
    "        'action': 'consume',\n",
    "        'topic': topic,\n",
    "        'ts': one_hour_ago,\n",
    "    },\n",
    "}\n",
    "resp = request_and_get_response(f'{ap_endpoint}/run', headers, data)\n",
    "assert resp['status'] == 'SUCCEEDED'\n",
    "for topic_partition, messages in resp['details'].items():\n",
    "    print('topic =', topic_partition, 'number of msgs =', len(messages))"
   ]
  },
  {
   "cell_type": "markdown",
   "metadata": {},
   "source": [
    "### 3.1.3: Error case: the topic does not exist"
   ]
  },
  {
   "cell_type": "code",
   "execution_count": null,
   "metadata": {},
   "outputs": [],
   "source": [
    "data = {\n",
    "    'request_id': random_request_id(),\n",
    "    'body': {\n",
    "        'action': 'consume',\n",
    "        'topic': '__badtopic',\n",
    "        'ts': 1717532033372,\n",
    "    },\n",
    "}\n",
    "resp = request_and_get_response(f'{ap_endpoint}/run', headers, data)\n",
    "assert resp['status'] == 'FAILED'\n",
    "print(resp['details']['error'])"
   ]
  },
  {
   "cell_type": "markdown",
   "metadata": {},
   "source": [
    "### 3.1.4: Error case: the user does not have access"
   ]
  },
  {
   "cell_type": "code",
   "execution_count": null,
   "metadata": {},
   "outputs": [],
   "source": [
    "data = {\n",
    "    'request_id': random_request_id(),\n",
    "    'body': {\n",
    "        'action': 'consume',\n",
    "        'topic': 'diaspora-cicd',\n",
    "        'ts': 1715930522000,\n",
    "    },\n",
    "}\n",
    "resp = request_and_get_response(f'{ap_endpoint}/run', headers, data)\n",
    "assert resp['status'] == 'FAILED'\n",
    "print(resp['details']['error'])"
   ]
  },
  {
   "cell_type": "markdown",
   "metadata": {},
   "source": [
    "## 3.2 Blocking consume returns `ACTIVE`, retry with the same `request_id`"
   ]
  },
  {
   "cell_type": "markdown",
   "metadata": {},
   "source": [
    "### 3.2.1 Produce a few more messages"
   ]
  },
  {
   "cell_type": "code",
   "execution_count": null,
   "metadata": {},
   "outputs": [],
   "source": [
    "data = {\n",
    "    'request_id': random_request_id(),\n",
    "    'body': {\n",
    "        'action': 'produce',\n",
    "        'topic': topic,\n",
    "        'msgs': [\n",
    "            {'content': 'hello world1'},\n",
    "            {'content': 'hello world2'},\n",
    "            {'content': 'hello world3'},\n",
    "        ],\n",
    "    },\n",
    "}\n",
    "resp = request_and_get_response(f'{ap_endpoint}/run', headers, data)\n",
    "assert resp['status'] == 'SUCCEEDED'"
   ]
  },
  {
   "cell_type": "markdown",
   "metadata": {},
   "source": [
    "### 3.2.2: Consume messages within one hour (with `ts`, with `group_id`)"
   ]
  },
  {
   "cell_type": "code",
   "execution_count": null,
   "metadata": {},
   "outputs": [],
   "source": [
    "data = {\n",
    "    'request_id': random_request_id(),\n",
    "    'body': {\n",
    "        'action': 'consume',\n",
    "        'topic': topic,\n",
    "        'ts': one_hour_ago,\n",
    "        'group_id': 'my-group12',\n",
    "    },\n",
    "}\n",
    "resp = request_and_get_response(f'{ap_endpoint}/run', headers, data)\n",
    "assert resp['status'] == 'SUCCEEDED'\n",
    "for topic_partition, messages in resp['details'].items():\n",
    "    print('topic =', topic_partition, 'number of msgs =', len(messages))"
   ]
  },
  {
   "cell_type": "markdown",
   "metadata": {},
   "source": [
    "### 3.2.3 The same request body returns `ACTIVE` status with no message"
   ]
  },
  {
   "cell_type": "code",
   "execution_count": null,
   "metadata": {},
   "outputs": [],
   "source": [
    "consume_request_id = random_request_id()\n",
    "print(consume_request_id)\n",
    "\n",
    "data = {\n",
    "    'request_id': consume_request_id,\n",
    "    'body': {\n",
    "        'action': 'consume',\n",
    "        'topic': topic,\n",
    "        'ts': one_hour_ago,\n",
    "        'group_id': 'my-group12',\n",
    "    },\n",
    "}\n",
    "resp = request_and_get_response(f'{ap_endpoint}/run', headers, data)\n",
    "assert resp['status'] == 'ACTIVE'"
   ]
  },
  {
   "cell_type": "markdown",
   "metadata": {},
   "source": [
    "### 3.2.4 Produce a few more messages"
   ]
  },
  {
   "cell_type": "code",
   "execution_count": null,
   "metadata": {},
   "outputs": [],
   "source": [
    "data = {\n",
    "    'request_id': random_request_id(),\n",
    "    'body': {\n",
    "        'action': 'produce',\n",
    "        'topic': topic,\n",
    "        'msgs': [\n",
    "            {'content': 'hello world1'},\n",
    "            {'content': 'hello world2'},\n",
    "            {'content': 'hello world3'},\n",
    "        ],\n",
    "    },\n",
    "}\n",
    "resp = request_and_get_response(f'{ap_endpoint}/run', headers, data)\n",
    "assert resp['status'] == 'SUCCEEDED'"
   ]
  },
  {
   "cell_type": "markdown",
   "metadata": {},
   "source": [
    "### 3.2.5 Retry the same consume request with `request_id`"
   ]
  },
  {
   "cell_type": "code",
   "execution_count": null,
   "metadata": {},
   "outputs": [],
   "source": [
    "data = {\n",
    "    'request_id': consume_request_id,\n",
    "    'body': {\n",
    "        'action': 'consume',\n",
    "        'topic': topic,\n",
    "        'ts': one_hour_ago,\n",
    "        'group_id': 'my-group12',\n",
    "    },\n",
    "}\n",
    "resp = request_and_get_response(f'{ap_endpoint}/run', headers, data)\n",
    "assert resp['status'] == 'SUCCEEDED'\n",
    "for topic_partition, messages in resp['details'].items():\n",
    "    print('topic =', topic_partition, 'number of msgs =', len(messages))"
   ]
  },
  {
   "cell_type": "markdown",
   "metadata": {},
   "source": [
    "## 3.3 Blocking consume returns `ACTIVE`, retry with the same `action_id`\n"
   ]
  },
  {
   "cell_type": "markdown",
   "metadata": {},
   "source": [
    "### 3.3.1 Create an `ACTIVE` request\n",
    "Execute code in Section 3.2 first to use up all recent messages"
   ]
  },
  {
   "cell_type": "code",
   "execution_count": null,
   "metadata": {},
   "outputs": [],
   "source": [
    "data = {\n",
    "    'request_id': random_request_id(),\n",
    "    'body': {\n",
    "        'action': 'consume',\n",
    "        'topic': topic,\n",
    "        'ts': one_hour_ago,\n",
    "        'group_id': 'my-group12',\n",
    "    },\n",
    "}\n",
    "resp = request_and_get_response(f'{ap_endpoint}/run', headers, data)\n",
    "assert resp['status'] == 'ACTIVE'\n",
    "action_id = resp['action_id']"
   ]
  },
  {
   "cell_type": "markdown",
   "metadata": {},
   "source": [
    "### 3.3.2 Produce a few more messages"
   ]
  },
  {
   "cell_type": "code",
   "execution_count": null,
   "metadata": {},
   "outputs": [],
   "source": [
    "data = {\n",
    "    'request_id': random_request_id(),\n",
    "    'body': {\n",
    "        'action': 'produce',\n",
    "        'topic': topic,\n",
    "        'msgs': [\n",
    "            {'content': 'hello world1'},\n",
    "            {'content': 'hello world2'},\n",
    "            {'content': 'hello world3'},\n",
    "        ],\n",
    "    },\n",
    "}\n",
    "resp = request_and_get_response(f'{ap_endpoint}/run', headers, data)\n",
    "assert resp['status'] == 'SUCCEEDED'"
   ]
  },
  {
   "cell_type": "markdown",
   "metadata": {},
   "source": [
    "### 3.3.3 Retry the consume request with `action_id` on the `status` endpoint"
   ]
  },
  {
   "cell_type": "code",
   "execution_count": null,
   "metadata": {},
   "outputs": [],
   "source": [
    "print(action_id)\n",
    "\n",
    "response = requests.get(\n",
    "    f'{ap_endpoint}/{action_id}/status',\n",
    "    headers={'authorization': f'Bearer {access_token}'},\n",
    ")\n",
    "\n",
    "response_content = response.content.decode('utf-8')\n",
    "resp = json.loads(response_content)\n",
    "print(resp)\n",
    "assert resp['status'] == 'SUCCEEDED'"
   ]
  },
  {
   "cell_type": "markdown",
   "metadata": {},
   "source": [
    "## 3.4 Consume with filters"
   ]
  },
  {
   "cell_type": "markdown",
   "metadata": {},
   "source": [
    "### 3.4.1 Consume with a Prefix Filter (can also use `ts` or `group_id`)"
   ]
  },
  {
   "cell_type": "code",
   "execution_count": null,
   "metadata": {},
   "outputs": [],
   "source": [
    "data = {\n",
    "    'request_id': random_request_id(),\n",
    "    'body': {\n",
    "        'action': 'consume',\n",
    "        'topic': topic,\n",
    "        'filters': [\n",
    "            {'Pattern': {'value': {'content': [{'prefix': 'hello world1'}]}}},\n",
    "        ],\n",
    "    },\n",
    "}\n",
    "resp = request_and_get_response(f'{ap_endpoint}/run', headers, data)\n",
    "assert resp['status'] == 'SUCCEEDED'\n",
    "for topic_partition, messages in resp['details'].items():\n",
    "    print('topic =', topic_partition, 'number of msgs =', len(messages))"
   ]
  },
  {
   "cell_type": "markdown",
   "metadata": {},
   "source": [
    "### 3.4.2 Consume with a filter that has multiple conditions (cond1 AND cond2)"
   ]
  },
  {
   "cell_type": "code",
   "execution_count": null,
   "metadata": {},
   "outputs": [],
   "source": [
    "data = {\n",
    "    'request_id': random_request_id(),\n",
    "    'body': {\n",
    "        'action': 'consume',\n",
    "        'topic': topic,\n",
    "        'filters': [\n",
    "            {\n",
    "                'Pattern': {\n",
    "                    'value': {\n",
    "                        'content': [\n",
    "                            {'prefix': 'hello', 'suffix': 'world2'},\n",
    "                        ],\n",
    "                    },\n",
    "                },\n",
    "            },\n",
    "        ],\n",
    "    },\n",
    "}\n",
    "resp = request_and_get_response(f'{ap_endpoint}/run', headers, data)\n",
    "assert resp['status'] == 'SUCCEEDED'\n",
    "for topic_partition, messages in resp['details'].items():\n",
    "    print('topic =', topic_partition, 'number of msgs =', len(messages))"
   ]
  },
  {
   "cell_type": "markdown",
   "metadata": {},
   "source": [
    "### 3.4.3 Consume with multiple filters (filter1 OR filter2)"
   ]
  },
  {
   "cell_type": "code",
   "execution_count": null,
   "metadata": {},
   "outputs": [],
   "source": [
    "data = {\n",
    "    'request_id': random_request_id(),\n",
    "    'body': {\n",
    "        'action': 'consume',\n",
    "        'topic': topic,\n",
    "        'filters': [\n",
    "            {'Pattern': {'value': {'content': [{'prefix': 'hello world1'}]}}},\n",
    "            {'Pattern': {'value': {'content': [{'suffix': 'hello world2'}]}}},\n",
    "        ],\n",
    "    },\n",
    "}\n",
    "resp = request_and_get_response(f'{ap_endpoint}/run', headers, data)\n",
    "assert resp['status'] == 'SUCCEEDED'\n",
    "for topic_partition, messages in resp['details'].items():\n",
    "    print('topic =', topic_partition, 'number of msgs =', len(messages))"
   ]
  },
  {
   "cell_type": "markdown",
   "metadata": {},
   "source": [
    "### 3.4.4 Consume with multiple filters (repeated filters do not return repeated msgs)"
   ]
  },
  {
   "cell_type": "code",
   "execution_count": null,
   "metadata": {},
   "outputs": [],
   "source": [
    "data = {\n",
    "    'request_id': random_request_id(),\n",
    "    'body': {\n",
    "        'action': 'consume',\n",
    "        'topic': topic,\n",
    "        'filters': [\n",
    "            {'Pattern': {'value': {'content': [{'prefix': 'hello world1'}]}}},\n",
    "            {'Pattern': {'value': {'content': [{'suffix': 'hello world1'}]}}},\n",
    "        ],\n",
    "    },\n",
    "}\n",
    "resp = request_and_get_response(f'{ap_endpoint}/run', headers, data)\n",
    "assert resp['status'] == 'SUCCEEDED'\n",
    "for topic_partition, messages in resp['details'].items():\n",
    "    print('topic =', topic_partition, 'number of msgs =', len(messages))"
   ]
  },
  {
   "cell_type": "markdown",
   "metadata": {},
   "source": [
    "### 3.4.5 Error case: consume with a bad filter"
   ]
  },
  {
   "cell_type": "code",
   "execution_count": null,
   "metadata": {},
   "outputs": [],
   "source": [
    "data = {\n",
    "    'request_id': random_request_id(),\n",
    "    'body': {\n",
    "        'action': 'consume',\n",
    "        'topic': topic,\n",
    "        'filters': [\n",
    "            {\n",
    "                'BadPattern': {\n",
    "                    'value': {'content': [{'prefix': 'hello world1'}]},\n",
    "                },\n",
    "            },\n",
    "            {'Pattern': {'value': {'content': [{'suffix': 'hello world1'}]}}},\n",
    "        ],\n",
    "    },\n",
    "}\n",
    "resp = request_and_get_response(f'{ap_endpoint}/run', headers, data)\n",
    "assert resp['status'] == 'FAILED'\n",
    "print(resp['details']['error'])"
   ]
  },
  {
   "cell_type": "markdown",
   "metadata": {},
   "source": [
    "## 3.5 Consume with `ts`, `group_id` and `filters`, check status, and release"
   ]
  },
  {
   "cell_type": "markdown",
   "metadata": {},
   "source": [
    "### 3.5.1 Produce a few more messages"
   ]
  },
  {
   "cell_type": "code",
   "execution_count": null,
   "metadata": {},
   "outputs": [],
   "source": [
    "ts_now = int(time()) * 1000"
   ]
  },
  {
   "cell_type": "code",
   "execution_count": null,
   "metadata": {},
   "outputs": [],
   "source": [
    "data = {\n",
    "    'request_id': random_request_id(),\n",
    "    'body': {\n",
    "        'action': 'produce',\n",
    "        'topic': topic,\n",
    "        'msgs': [\n",
    "            {'content': 'hello world1'},\n",
    "            {'content': 'hello world2'},\n",
    "            {'content': 'hello world3'},\n",
    "        ],\n",
    "    },\n",
    "}\n",
    "resp = request_and_get_response(f'{ap_endpoint}/run', headers, data)\n",
    "assert resp['status'] == 'SUCCEEDED'"
   ]
  },
  {
   "cell_type": "markdown",
   "metadata": {},
   "source": [
    "### 3.5.2 Consume with `ts`, `group_id` and `filters`"
   ]
  },
  {
   "cell_type": "code",
   "execution_count": null,
   "metadata": {},
   "outputs": [],
   "source": [
    "data = {\n",
    "    'request_id': random_request_id(),\n",
    "    'body': {\n",
    "        'action': 'consume',\n",
    "        'topic': topic,\n",
    "        'ts': ts_now,\n",
    "        'group_id': 'my-group12',\n",
    "        'filters': [\n",
    "            {'Pattern': {'value': {'content': [{'prefix': 'hello world1'}]}}},\n",
    "        ],\n",
    "    },\n",
    "}\n",
    "resp = request_and_get_response(f'{ap_endpoint}/run', headers, data)\n",
    "assert resp['status'] == 'SUCCEEDED'\n",
    "action_id = resp['action_id']\n",
    "for topic_partition, messages in resp['details'].items():\n",
    "    print('topic =', topic_partition, 'number of msgs =', len(messages))"
   ]
  },
  {
   "cell_type": "markdown",
   "metadata": {},
   "source": [
    "### 3.5.3 Check the request status through `status` endpoint"
   ]
  },
  {
   "cell_type": "code",
   "execution_count": null,
   "metadata": {},
   "outputs": [],
   "source": [
    "print(action_id)\n",
    "\n",
    "response = requests.get(\n",
    "    f'{ap_endpoint}/{action_id}/status',\n",
    "    headers={'authorization': f'Bearer {access_token}'},\n",
    ")\n",
    "\n",
    "response_content = response.content.decode('utf-8')\n",
    "resp = json.loads(response_content)\n",
    "print(resp)\n",
    "assert resp['status'] == 'SUCCEEDED'"
   ]
  },
  {
   "cell_type": "markdown",
   "metadata": {},
   "source": [
    "### 3.5.4 Error case: Check an non-exist `action_id`"
   ]
  },
  {
   "cell_type": "code",
   "execution_count": null,
   "metadata": {},
   "outputs": [],
   "source": [
    "bad_action_id = action_id[:15]\n",
    "\n",
    "response = requests.get(\n",
    "    f'{ap_endpoint}/{bad_action_id}/status',\n",
    "    headers={'authorization': f'Bearer {access_token}'},\n",
    ")\n",
    "\n",
    "response_content = response.content.decode('utf-8')\n",
    "resp = json.loads(response_content)\n",
    "print(resp)\n",
    "assert resp['code'] == 'ActionNotFound'"
   ]
  },
  {
   "cell_type": "markdown",
   "metadata": {},
   "source": [
    "### 3.5.5 Release the request through `release` endpoint"
   ]
  },
  {
   "cell_type": "code",
   "execution_count": null,
   "metadata": {},
   "outputs": [],
   "source": [
    "response = requests.post(\n",
    "    f'{ap_endpoint}/{action_id}/release',\n",
    "    headers={'authorization': f'Bearer {access_token}'},\n",
    ")\n",
    "\n",
    "response_content = response.content.decode('utf-8')\n",
    "resp = json.loads(response_content)\n",
    "print(resp)\n",
    "assert resp['status'] == 'SUCCEEDED'"
   ]
  },
  {
   "cell_type": "markdown",
   "metadata": {},
   "source": [
    "### 3.5.6 Release the requests again returns `ActionNotFound`"
   ]
  },
  {
   "cell_type": "code",
   "execution_count": null,
   "metadata": {},
   "outputs": [],
   "source": [
    "response = requests.post(\n",
    "    f'{ap_endpoint}/{action_id}/release',\n",
    "    headers={'authorization': f'Bearer {access_token}'},\n",
    ")\n",
    "\n",
    "response_content = response.content.decode('utf-8')\n",
    "resp = json.loads(response_content)\n",
    "print(resp)\n",
    "assert resp['code'] == 'ActionNotFound'"
   ]
  },
  {
   "cell_type": "markdown",
   "metadata": {},
   "source": [
    "## 3.6 Blocking with `ts`, `group_id` and `filters`, check status, cancel, and release"
   ]
  },
  {
   "cell_type": "markdown",
   "metadata": {},
   "source": [
    "### 3.6.1 Create an `ACTIVE` request\n",
    "Execute code in Section 3.5 first to use up all recent messages"
   ]
  },
  {
   "cell_type": "code",
   "execution_count": null,
   "metadata": {},
   "outputs": [],
   "source": [
    "data = {\n",
    "    'request_id': random_request_id(),\n",
    "    'body': {\n",
    "        'action': 'consume',\n",
    "        'topic': topic,\n",
    "        'ts': ts_now,\n",
    "        'group_id': 'my-group12',\n",
    "        'filters': [\n",
    "            {'Pattern': {'value': {'content': [{'prefix': 'hello world1'}]}}},\n",
    "        ],\n",
    "    },\n",
    "}\n",
    "resp = request_and_get_response(f'{ap_endpoint}/run', headers, data)\n",
    "assert resp['status'] == 'ACTIVE'\n",
    "action_id = resp['action_id']"
   ]
  },
  {
   "cell_type": "markdown",
   "metadata": {},
   "source": [
    "### 3.6.2 Check the request status through `status` endpoint"
   ]
  },
  {
   "cell_type": "code",
   "execution_count": null,
   "metadata": {},
   "outputs": [],
   "source": [
    "print(action_id)\n",
    "\n",
    "response = requests.get(\n",
    "    f'{ap_endpoint}/{action_id}/status',\n",
    "    headers={'authorization': f'Bearer {access_token}'},\n",
    ")\n",
    "\n",
    "response_content = response.content.decode('utf-8')\n",
    "resp = json.loads(response_content)\n",
    "print(resp)"
   ]
  },
  {
   "cell_type": "markdown",
   "metadata": {},
   "source": [
    "### 3.6.3 Error case: Attempt to release an active request"
   ]
  },
  {
   "cell_type": "code",
   "execution_count": null,
   "metadata": {},
   "outputs": [],
   "source": [
    "response = requests.post(\n",
    "    f'{ap_endpoint}/{action_id}/release',\n",
    "    headers={'authorization': f'Bearer {access_token}'},\n",
    ")\n",
    "\n",
    "response_content = response.content.decode('utf-8')\n",
    "resp = json.loads(response_content)\n",
    "print(resp)\n",
    "assert resp['code'] == 'ActionConflict'"
   ]
  },
  {
   "cell_type": "markdown",
   "metadata": {},
   "source": [
    "### 3.6.4 Cancel the request status through `cancel` endpoint"
   ]
  },
  {
   "cell_type": "code",
   "execution_count": null,
   "metadata": {},
   "outputs": [],
   "source": [
    "response = requests.post(\n",
    "    f'{ap_endpoint}/{action_id}/cancel',\n",
    "    headers={'authorization': f'Bearer {access_token}'},\n",
    ")\n",
    "\n",
    "response_content = response.content.decode('utf-8')\n",
    "resp = json.loads(response_content)\n",
    "print(resp)\n",
    "assert resp['status'] == 'FAILED'"
   ]
  },
  {
   "cell_type": "markdown",
   "metadata": {},
   "source": [
    "### 3.6.5 Cancel the request again returns idempotent results"
   ]
  },
  {
   "cell_type": "code",
   "execution_count": null,
   "metadata": {},
   "outputs": [],
   "source": [
    "response = requests.post(\n",
    "    f'{ap_endpoint}/{action_id}/cancel',\n",
    "    headers={'authorization': f'Bearer {access_token}'},\n",
    ")\n",
    "\n",
    "response_content = response.content.decode('utf-8')\n",
    "resp = json.loads(response_content)\n",
    "print(resp)\n",
    "assert resp['status'] == 'FAILED'"
   ]
  },
  {
   "cell_type": "markdown",
   "metadata": {},
   "source": [
    "### 3.6.6 Release the request"
   ]
  },
  {
   "cell_type": "code",
   "execution_count": null,
   "metadata": {},
   "outputs": [],
   "source": [
    "response = requests.post(\n",
    "    f'{ap_endpoint}/{action_id}/release',\n",
    "    headers={'authorization': f'Bearer {access_token}'},\n",
    ")\n",
    "\n",
    "response_content = response.content.decode('utf-8')\n",
    "resp = json.loads(response_content)\n",
    "print(resp)\n",
    "assert resp['status'] == 'FAILED'"
   ]
  }
 ],
 "metadata": {
  "kernelspec": {
   "display_name": ".venv",
   "language": "python",
   "name": "python3"
  },
  "language_info": {
   "codemirror_mode": {
    "name": "ipython",
    "version": 3
   },
   "file_extension": ".py",
   "mimetype": "text/x-python",
   "name": "python",
   "nbconvert_exporter": "python",
   "pygments_lexer": "ipython3",
   "version": "3.11.9"
  }
 },
 "nbformat": 4,
 "nbformat_minor": 2
}
