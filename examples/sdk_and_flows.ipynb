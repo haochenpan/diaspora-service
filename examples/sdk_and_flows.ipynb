{
 "cells": [
  {
   "cell_type": "markdown",
   "metadata": {},
   "source": [
    "### 10-Minute Quick Demo of Diaspora Event SDK and Action Provider Features\n",
    "\n",
    "#### SDK Features to Demo\n",
    "| Section | SDK Features |\n",
    "|---------|--------------|\n",
    "| 1.1     | Register and List topics |\n",
    "| 1.2     | List and update and topic configs |\n",
    "| 1.3     | Produce and consume messages |\n",
    "| 1.4     | Create and update triggers, get log events |\n",
    "\n",
    "#### AP Features to Demo\n",
    "| Section | AP Features |\n",
    "|---------|-------------|\n",
    "| 2.1     | Produce messages to AP with keys |\n",
    "| 2.2     | Consume messages since a timestamp |\n",
    "\n",
    "For a comprehensive list of SDK features, visit the [Diaspora SDK repository](https://github.com/globus-labs/diaspora-event-sdk/blob/main/DiasporaDemo.ipynb).\n",
    "\n",
    "For a full list of AP features, refer to the [Diaspora Service documentation](https://haochenpan.github.io/diaspora-service/main/ap/examples/)."
   ]
  },
  {
   "cell_type": "code",
   "execution_count": null,
   "metadata": {},
   "outputs": [],
   "source": [
    "from __future__ import annotations\n",
    "\n",
    "# SDK requirement\n",
    "%pip install 'diaspora-event-sdk[kafka-python]'\n",
    "\n",
    "# AP requirement\n",
    "# %pip install globus-sdk # included in diaspora-event-sdk\n"
   ]
  },
  {
   "cell_type": "code",
   "execution_count": null,
   "metadata": {},
   "outputs": [],
   "source": [
    "import base64\n",
    "import json\n",
    "import os\n",
    "import random\n",
    "import time\n",
    "import string\n",
    "from pprint import pprint\n",
    "\n",
    "from diaspora_event_sdk import Client as GlobusClient\n",
    "from diaspora_event_sdk import KafkaConsumer, KafkaProducer, block_until_ready\n",
    "from diaspora_event_sdk.version import __version__"
   ]
  },
  {
   "cell_type": "code",
   "execution_count": null,
   "metadata": {},
   "outputs": [],
   "source": [
    "c = GlobusClient()\n",
    "print('Diaspora Event SDK version:', __version__)\n",
    "print(\"User's OpenID:\", c.subject_openid)"
   ]
  },
  {
   "cell_type": "markdown",
   "metadata": {},
   "source": [
    "### 1.1 Register Topics"
   ]
  },
  {
   "cell_type": "code",
   "execution_count": null,
   "metadata": {},
   "outputs": [],
   "source": [
    "topic = 'topic-' + c.subject_openid[-12:]\n",
    "print('Topic name:', topic)\n",
    "print(c.register_topic(topic))"
   ]
  },
  {
   "cell_type": "code",
   "execution_count": null,
   "metadata": {},
   "outputs": [],
   "source": [
    "random_topic_suffix = ''.join(random.choice(string.ascii_uppercase +\n",
    "                                            string.digits) for _ in range(8))\n",
    "random_topic_name = 'topic-' + random_topic_suffix\n",
    "print('Topic name:', random_topic_name)\n",
    "print(c.register_topic(random_topic_name))"
   ]
  },
  {
   "cell_type": "code",
   "execution_count": null,
   "metadata": {},
   "outputs": [],
   "source": [
    "print(c.list_topics())"
   ]
  },
  {
   "cell_type": "code",
   "execution_count": 27,
   "metadata": {},
   "outputs": [
    {
     "name": "stdout",
     "output_type": "stream",
     "text": [
      "Topic to unregister: topic-FT26L8CJ\n",
      "{\n",
      "  \"status\": \"no-op\",\n",
      "  \"message\": \"Principal e2a8169b-feef-4d56-8eba-ab12747bee03 has no access.\"\n",
      "}\n"
     ]
    }
   ],
   "source": [
    "print('Topic to unregister:', random_topic_name)\n",
    "print(c.unregister_topic(random_topic_name))"
   ]
  },
  {
   "cell_type": "code",
   "execution_count": 28,
   "metadata": {},
   "outputs": [
    {
     "name": "stdout",
     "output_type": "stream",
     "text": [
      "{\n",
      "  \"status\": \"success\",\n",
      "  \"topics\": [\n",
      "    \"report\",\n",
      "    \"topic-ab12747bee03\"\n",
      "  ]\n",
      "}\n"
     ]
    }
   ],
   "source": [
    "print(c.list_topics())"
   ]
  },
  {
   "cell_type": "markdown",
   "metadata": {},
   "source": [
    "### 1.2 List and Update Topic Configs"
   ]
  },
  {
   "cell_type": "code",
   "execution_count": 29,
   "metadata": {},
   "outputs": [
    {
     "name": "stdout",
     "output_type": "stream",
     "text": [
      "{\n",
      "  \"status\": \"success\",\n",
      "  \"configs\": {\n",
      "    \"compression.type\": \"producer\",\n",
      "    \"leader.replication.throttled.replicas\": \"\",\n",
      "    \"message.downconversion.enable\": \"true\",\n",
      "    \"min.insync.replicas\": \"2\",\n",
      "    \"segment.jitter.ms\": \"0\",\n",
      "    \"cleanup.policy\": \"delete\",\n",
      "    \"flush.ms\": \"9223372036854775807\",\n",
      "    \"follower.replication.throttled.replicas\": \"\",\n",
      "    \"segment.bytes\": \"1073741824\",\n",
      "    \"retention.ms\": \"604800000\",\n",
      "    \"flush.messages\": \"9223372036854775807\",\n",
      "    \"message.format.version\": \"3.0-IV1\",\n",
      "    \"max.compaction.lag.ms\": \"9223372036854775807\",\n",
      "    \"file.delete.delay.ms\": \"60000\",\n",
      "    \"max.message.bytes\": \"1048588\",\n",
      "    \"min.compaction.lag.ms\": \"0\",\n",
      "    \"message.timestamp.type\": \"CreateTime\",\n",
      "    \"preallocate\": \"false\",\n",
      "    \"min.cleanable.dirty.ratio\": \"0.5\",\n",
      "    \"index.interval.bytes\": \"4096\",\n",
      "    \"unclean.leader.election.enable\": \"true\",\n",
      "    \"retention.bytes\": \"-1\",\n",
      "    \"delete.retention.ms\": \"86400000\",\n",
      "    \"segment.ms\": \"604800000\",\n",
      "    \"message.timestamp.difference.max.ms\": \"9223372036854775807\",\n",
      "    \"segment.index.bytes\": \"10485760\"\n",
      "  }\n",
      "}\n"
     ]
    }
   ],
   "source": [
    "print(c.get_topic_configs(topic))"
   ]
  },
  {
   "cell_type": "code",
   "execution_count": 30,
   "metadata": {},
   "outputs": [
    {
     "name": "stdout",
     "output_type": "stream",
     "text": [
      "{\n",
      "  \"status\": \"success\",\n",
      "  \"before\": {\n",
      "    \"retention.ms\": \"604800000\",\n",
      "    \"delete.retention.ms\": \"86400000\"\n",
      "  },\n",
      "  \"after\": {\n",
      "    \"retention.ms\": \"43200000\",\n",
      "    \"delete.retention.ms\": \"43200000\"\n",
      "  }\n",
      "}\n"
     ]
    }
   ],
   "source": [
    "configs = {\n",
    "    'delete.retention.ms': 43200000,\n",
    "    'retention.ms': 43200000,\n",
    "}\n",
    "print(c.update_topic_configs(topic, configs))"
   ]
  },
  {
   "cell_type": "code",
   "execution_count": 31,
   "metadata": {},
   "outputs": [
    {
     "name": "stdout",
     "output_type": "stream",
     "text": [
      "{\n",
      "  \"status\": \"success\"\n",
      "}\n"
     ]
    }
   ],
   "source": [
    "print(c.update_topic_partitions(topic, 2))"
   ]
  },
  {
   "cell_type": "markdown",
   "metadata": {},
   "source": [
    "### 1.3 Produce and Consume Messages"
   ]
  },
  {
   "cell_type": "code",
   "execution_count": 34,
   "metadata": {},
   "outputs": [
    {
     "name": "stdout",
     "output_type": "stream",
     "text": [
      "RecordMetadata(topic='topic-ab12747bee03', partition=1, topic_partition=TopicPartition(topic='topic-ab12747bee03', partition=1), offset=3, timestamp=1720496811111, log_start_offset=0, checksum=None, serialized_key_size=-1, serialized_value_size=54, serialized_header_size=-1)\n",
      "RecordMetadata(topic='topic-ab12747bee03', partition=0, topic_partition=TopicPartition(topic='topic-ab12747bee03', partition=0), offset=1, timestamp=1720496812488, log_start_offset=0, checksum=None, serialized_key_size=-1, serialized_value_size=54, serialized_header_size=-1)\n"
     ]
    }
   ],
   "source": [
    "'''\n",
    "    Synchronously produce messages to a registered topic.\n",
    "    expected return: \n",
    "        multiple RecordMetadata(...)\n",
    "'''\n",
    "\n",
    "producer = KafkaProducer()\n",
    "future = producer.send(\n",
    "    topic, {'message': 'Synchronous message 1 from Diaspora SDK'})\n",
    "print(future.get(timeout=10))\n",
    "future = producer.send(\n",
    "    topic, {'message': 'Synchronous message 2 from Diaspora SDK'})\n",
    "print(future.get(timeout=10))"
   ]
  },
  {
   "cell_type": "code",
   "execution_count": 35,
   "metadata": {},
   "outputs": [],
   "source": [
    "'''\n",
    "    Asynchronously produce batched messages to a registered topic.\n",
    "    See https://kafka-python.readthedocs.io/en/master/apidoc/KafkaProducer.html\n",
    "    for more producer settings and usage.\n",
    "    expected return: None\n",
    "'''\n",
    "producer = KafkaProducer()\n",
    "producer.send(topic, {'message': 'Asynchronous message 3 from Diaspora SDK'})\n",
    "producer.send(topic, {'message': 'Asynchronous message 4 from Diaspora SDK'})\n",
    "producer.flush()"
   ]
  },
  {
   "cell_type": "code",
   "execution_count": 41,
   "metadata": {},
   "outputs": [],
   "source": [
    "'''\n",
    "    Consume produced messages from the beginning of the topic.\n",
    "    The consumer exits in three seconds.\n",
    "    If the topic has more than one partitions, messages may arrive out of order.\n",
    "    See https://kafka-python.readthedocs.io/en/master/apidoc/KafkaConsumer.html \n",
    "    for more consumer settings and usage.\n",
    "    expected return:\n",
    "        multiple {'message': ...}\n",
    "'''\n",
    "consumer = KafkaConsumer(topic, auto_offset_reset='earliest')\n",
    "for message in consumer:\n",
    "    print(message)\n"
   ]
  },
  {
   "cell_type": "markdown",
   "metadata": {},
   "source": [
    "## 1.4 Create and Update triggers, Get Execution Logs"
   ]
  },
  {
   "cell_type": "markdown",
   "metadata": {},
   "source": [
    "### 3.0 Create a deployment package"
   ]
  },
  {
   "cell_type": "code",
   "execution_count": 42,
   "metadata": {},
   "outputs": [
    {
     "data": {
      "text/plain": [
       "0"
      ]
     },
     "execution_count": 42,
     "metadata": {},
     "output_type": "execute_result"
    }
   ],
   "source": [
    "trigger_package = f'{os.getcwd()}/my_deployment_package'\n",
    "trigger_file = 'lambda_function.py'\n",
    "trigger_name_in_def='lambda_handler'\n",
    "os.system(f'mkdir {trigger_package}')"
   ]
  },
  {
   "cell_type": "markdown",
   "metadata": {},
   "source": [
    "### 3.1 Save code to `trigger_package/trigger_file`"
   ]
  },
  {
   "cell_type": "code",
   "execution_count": 43,
   "metadata": {},
   "outputs": [],
   "source": [
    "trigger_code = f'''import base64\n",
    "\n",
    "def {trigger_name_in_def}(event, context):\n",
    "    try:\n",
    "        print('EVENT:')\n",
    "        print(event)\n",
    "\n",
    "        for partition, records in event['records'].items():\n",
    "            for record in records:\n",
    "                print(\"topic:\", record['topic'],\n",
    "                      \"partition:\", record['partition'],\n",
    "                      \"offset:\", record['offset'],\n",
    "                      \"key:\", record.get(\"key\", \"NOT-SET\"),\n",
    "                      \"value:\", base64.b64decode(record['value']))\n",
    "    except Exception as e:\n",
    "        print(\"ERROR:\", e)\n",
    "'''\n",
    "\n",
    "with open(os.path.join(trigger_package, trigger_file), 'w') as f:\n",
    "  f.write(trigger_code)"
   ]
  },
  {
   "cell_type": "markdown",
   "metadata": {},
   "source": [
    "### 3.2 Zip the code at `trigger_file`"
   ]
  },
  {
   "cell_type": "code",
   "execution_count": 44,
   "metadata": {},
   "outputs": [
    {
     "name": "stdout",
     "output_type": "stream",
     "text": [
      "Zipping /Users/haochen/Downloads/diaspora-service/examples/my_deployment_package\n",
      "  adding: lambda_function.py (deflated 55%)\n"
     ]
    }
   ],
   "source": [
    "def get_zipped_code(lambda_function_package):\n",
    "    print(f\"Zipping {lambda_function_package}\")\n",
    "    os.system(f\"cd {lambda_function_package} && zip -r {lambda_function_package}.zip .\")\n",
    "    with open(f\"{lambda_function_package}.zip\", \"rb\") as f:\n",
    "        return base64.b64encode(f.read()).decode('utf-8')\n",
    "zipped_code = get_zipped_code(trigger_package)"
   ]
  }
 ],
 "metadata": {
  "kernelspec": {
   "display_name": ".venv",
   "language": "python",
   "name": "python3"
  },
  "language_info": {
   "codemirror_mode": {
    "name": "ipython",
    "version": 3
   },
   "file_extension": ".py",
   "mimetype": "text/x-python",
   "name": "python",
   "nbconvert_exporter": "python",
   "pygments_lexer": "ipython3",
   "version": "3.11.9"
  }
 },
 "nbformat": 4,
 "nbformat_minor": 2
}
