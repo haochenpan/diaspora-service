{
 "cells": [
  {
   "cell_type": "markdown",
   "metadata": {},
   "source": [
    "## 5-Minute Quick Demo of Diaspora Action Provider Features"
   ]
  },
  {
   "cell_type": "code",
   "execution_count": null,
   "metadata": {},
   "outputs": [],
   "source": [
    "\"\"\"Import necessary libraries for Demo.\"\"\"\n",
    "from __future__ import annotations\n",
    "\n",
    "import json\n",
    "import time\n",
    "import uuid\n",
    "\n",
    "import globus_sdk\n",
    "import globus_sdk.scopes\n",
    "from diaspora_event_sdk import Client\n",
    "from diaspora_event_sdk.version import __version__ as diaspora_sdk_version\n",
    "from globus_sdk import __version__ as globus_sdk_version"
   ]
  },
  {
   "cell_type": "code",
   "execution_count": null,
   "metadata": {},
   "outputs": [],
   "source": [
    "# c = Client() # re-auth if there's something wrong with the access token\n",
    "# c.logout()"
   ]
  },
  {
   "cell_type": "code",
   "execution_count": null,
   "metadata": {},
   "outputs": [],
   "source": [
    "c = Client()\n",
    "print('Globus SDK version:', globus_sdk_version)\n",
    "print('Diaspora Event SDK version:', diaspora_sdk_version)\n",
    "print(\"User's OpenID:\", c.subject_openid)"
   ]
  },
  {
   "cell_type": "code",
   "execution_count": null,
   "metadata": {},
   "outputs": [],
   "source": [
    "# ID of this tutorial notebook as registered with Globus Auth\n",
    "CLIENT_ID = 'f794186b-f330-4595-b6c6-9c9d3e903e47'\n",
    "\n",
    "# Do a native app authentication flow to get tokens that allow us\n",
    "# to interact with the Globus Flows service\n",
    "\n",
    "scopes = [\n",
    "    'openid',\n",
    "    'profile',\n",
    "    'email',\n",
    "    globus_sdk.FlowsClient.scopes.manage_flows,\n",
    "    globus_sdk.FlowsClient.scopes.run_manage,\n",
    "]\n",
    "native_auth_client = globus_sdk.NativeAppAuthClient(CLIENT_ID)\n",
    "native_auth_client.oauth2_start_flow(requested_scopes=scopes)\n",
    "print(f'Login Here:\\n\\n{native_auth_client.oauth2_get_authorize_url()}')\n",
    "\n",
    "auth_code = input('Authorization Code: ')\n",
    "response = native_auth_client.oauth2_exchange_code_for_tokens(auth_code)\n",
    "\n",
    "tokens = response.by_resource_server\n",
    "print(json.dumps(tokens, indent=2))\n",
    "\n",
    "flows_authorizer = globus_sdk.AccessTokenAuthorizer(\n",
    "    access_token=tokens['flows.globus.org']['access_token'],\n",
    ")\n",
    "flows_client = globus_sdk.FlowsClient(authorizer=flows_authorizer)"
   ]
  },
  {
   "cell_type": "code",
   "execution_count": null,
   "metadata": {},
   "outputs": [],
   "source": [
    "topic1 = 'topic1-' + c.subject_openid[-12:]\n",
    "print('Topic name:', topic1)\n",
    "print(c.register_topic(topic1))"
   ]
  },
  {
   "cell_type": "code",
   "execution_count": null,
   "metadata": {},
   "outputs": [],
   "source": [
    "# Create an Auth client so we can look up identities\n",
    "auth_authorizer = globus_sdk.AccessTokenAuthorizer(\n",
    "    access_token=tokens['auth.globus.org']['access_token'],\n",
    ")\n",
    "ac = globus_sdk.AuthClient(authorizer=auth_authorizer)\n",
    "\n",
    "# Get the user's primary identity\n",
    "primary_identity = ac.oauth2_userinfo()\n",
    "identity_id = primary_identity['sub']\n",
    "\n",
    "print(f\"Username: {primary_identity['preferred_username']}\")\n",
    "print(f'ID: {identity_id}')\n",
    "print('Topic to produce/consume:', topic1)"
   ]
  },
  {
   "cell_type": "markdown",
   "metadata": {},
   "source": [
    "### 1. Produce events to AP with event keys"
   ]
  },
  {
   "cell_type": "code",
   "execution_count": null,
   "metadata": {},
   "outputs": [],
   "source": [
    "action_url = 'https://diaspora-action-provider.ml22sevubfnks.us-east-1.cs.amazonlightsail.com/'\n",
    "\n",
    "flow_definition = {\n",
    "    'Comment': 'Publish messages to Diaspora Event Fabric',\n",
    "    'StartAt': 'PublishMessages',\n",
    "    'States': {\n",
    "        'PublishMessages': {\n",
    "            'Comment': 'Send messages to a specified topic in Diaspora',\n",
    "            'Type': 'Action',\n",
    "            'ActionUrl': action_url,\n",
    "            'Parameters': {\n",
    "                'action.$': '$.input.action',\n",
    "                'topic.$': '$.input.topic',\n",
    "                'msgs.$': '$.input.msgs',\n",
    "                'keys.$': '$.input.keys',\n",
    "            },\n",
    "            'ResultPath': '$.PublishMessages',\n",
    "            'End': True,\n",
    "        },\n",
    "    },\n",
    "}"
   ]
  },
  {
   "cell_type": "code",
   "execution_count": null,
   "metadata": {},
   "outputs": [],
   "source": [
    "flow_title = f'Diapora-AP-Flow-{str(uuid.uuid4())[:4]}'\n",
    "flow = flows_client.create_flow(\n",
    "    title=flow_title,\n",
    "    definition=flow_definition,\n",
    "    input_schema={},\n",
    ")\n",
    "flow_id = flow['id']\n",
    "flow_scope = globus_sdk.SpecificFlowClient(flow_id).scopes.make_mutable('user')\n",
    "print(f\"Successfully created flow: '{flow_title} (ID: {flow_id})\")\n",
    "print(f'View the flow in the Web App: https://app.globus.org/flows/{flow_id}')\n",
    "\n",
    "if flow_id not in tokens:\n",
    "    # Do a native app authentication flow and get tokens that\n",
    "    # include the newly deployed flow scope\n",
    "    native_auth_client = globus_sdk.NativeAppAuthClient(CLIENT_ID)\n",
    "    native_auth_client.oauth2_start_flow(requested_scopes=flow_scope)\n",
    "    print(f'Login Here:\\n\\n{native_auth_client.oauth2_get_authorize_url()}')\n",
    "\n",
    "    # Authenticate and come back with your authorization code;\n",
    "    # paste it into the prompt below.\n",
    "    auth_code = input('Authorization Code: ')\n",
    "    token_response = native_auth_client.oauth2_exchange_code_for_tokens(\n",
    "        auth_code,\n",
    "    )\n",
    "\n",
    "    # Save the new token in a place where the flows client can retrieve it.\n",
    "    tokens[flow_id] = token_response.by_resource_server[flow_id]\n",
    "\n",
    "    # These are the saved scopes for the flow\n",
    "    print(json.dumps(tokens, indent=2))"
   ]
  },
  {
   "cell_type": "code",
   "execution_count": null,
   "metadata": {},
   "outputs": [],
   "source": [
    "flow_input = {\n",
    "    'input': {\n",
    "        'action': 'produce',\n",
    "        'topic': topic1,\n",
    "        'msgs': [\n",
    "            {'content1': 'argonne national laboratory'},\n",
    "            {'content2': 'university of chicago'},\n",
    "            {'content3': 'johns hopkins university'},\n",
    "        ],\n",
    "        'keys': [\n",
    "            'my-key-123',\n",
    "            'my-key-456',\n",
    "            'my-key-789',\n",
    "        ],\n",
    "    },\n",
    "}"
   ]
  },
  {
   "cell_type": "code",
   "execution_count": null,
   "metadata": {},
   "outputs": [],
   "source": [
    "# Get a client for the flow\n",
    "specific_flow_authorizer = globus_sdk.AccessTokenAuthorizer(\n",
    "    access_token=tokens[flow_id]['access_token'],\n",
    ")\n",
    "print(tokens[flow_id]['access_token'])\n",
    "specific_flow_client = globus_sdk.SpecificFlowClient(\n",
    "    flow_id=flow_id,\n",
    "    authorizer=specific_flow_authorizer,\n",
    ")\n",
    "\n",
    "# Run the flow\n",
    "# Set a descriptive label for this flow run\n",
    "run_label = f\"Diaspora AP Flow by {primary_identity['preferred_username']}\"\n",
    "run = specific_flow_client.run_flow(\n",
    "    body=flow_input,\n",
    "    label=run_label,\n",
    "    tags=['tutorial', 'diaspora'],\n",
    ")\n",
    "\n",
    "# Get run details\n",
    "run_id = run['run_id']\n",
    "run_status = run['status']\n",
    "print('This flow can be monitored in the Web App:')\n",
    "print(f'https://app.globus.org/runs/{run_id}')\n",
    "print(f'Flow run started with ID: {run_id} - Status: {run_status}')\n",
    "\n",
    "# Poll the Flow service to check on the status of the flow\n",
    "while run_status == 'ACTIVE':\n",
    "    time.sleep(5)\n",
    "    run = flows_client.get_run(run_id)\n",
    "    run_status = run['status']\n",
    "    print(f'Run status: {run_status}')\n",
    "\n",
    "# Run completed\n",
    "print(json.dumps(run.data, indent=2))"
   ]
  },
  {
   "cell_type": "markdown",
   "metadata": {},
   "source": [
    "### 2. Blocking consume events from AP with specific prefix after a timestamp"
   ]
  },
  {
   "cell_type": "code",
   "execution_count": null,
   "metadata": {},
   "outputs": [],
   "source": [
    "flow_definition_b = {\n",
    "    'Comment': 'Consume messages to Diaspora Event Fabric',\n",
    "    'StartAt': 'ConsumeMessages',\n",
    "    'States': {\n",
    "        'ConsumeMessages': {\n",
    "            'Comment': 'Receive messages from a specified topic in Diaspora',\n",
    "            'Type': 'Action',\n",
    "            'ActionUrl': action_url,\n",
    "            'Parameters': {\n",
    "                'action.$': '$.input.action',\n",
    "                'topic.$': '$.input.topic',\n",
    "                'ts.$': '$.input.ts',\n",
    "                # 'group_id.$': '$.input.group_id',\n",
    "                'filters.$': '$.input.filters',\n",
    "            },\n",
    "            'ResultPath': '$.ConsumeMessages',\n",
    "            'End': True,\n",
    "        },\n",
    "    },\n",
    "}\n",
    "\n",
    "flows_client.update_flow(\n",
    "    flow_id,\n",
    "    definition=flow_definition_b,\n",
    "    input_schema={},\n",
    ")"
   ]
  },
  {
   "cell_type": "code",
   "execution_count": null,
   "metadata": {},
   "outputs": [],
   "source": [
    "ts_now = int(time.time() * 1000)\n",
    "group_id = 'group-abc'\n",
    "print(ts_now)\n",
    "# print(group_id)\n",
    "\n",
    "flow_input_b = {\n",
    "    'input': {\n",
    "        'action': 'consume',\n",
    "        'topic': topic1,\n",
    "        'ts': ts_now,\n",
    "        # 'group_id': group_id,\n",
    "        'filters': [\n",
    "            {'Pattern': {'value': {'content': [{'prefix': 'university'}]}}},\n",
    "            {'Pattern': {'value': {'content': [{'suffix': 'university'}]}}},\n",
    "        ],\n",
    "    },\n",
    "}"
   ]
  },
  {
   "cell_type": "code",
   "execution_count": null,
   "metadata": {},
   "outputs": [],
   "source": [
    "# Get a client for the flow\n",
    "specific_flow_authorizer = globus_sdk.AccessTokenAuthorizer(\n",
    "    access_token=tokens[flow_id]['access_token'],\n",
    ")\n",
    "print(tokens[flow_id]['access_token'])\n",
    "specific_flow_client = globus_sdk.SpecificFlowClient(\n",
    "    flow_id=flow_id,\n",
    "    authorizer=specific_flow_authorizer,\n",
    ")\n",
    "\n",
    "# Run the flow\n",
    "# Set a descriptive label for this flow run\n",
    "run_label = f\"Diaspora AP Flow by {primary_identity['preferred_username']}\"\n",
    "run = specific_flow_client.run_flow(\n",
    "    body=flow_input_b,\n",
    "    label=run_label,\n",
    "    tags=['tutorial', 'diaspora'],\n",
    ")\n",
    "\n",
    "# Get run details\n",
    "run_id = run['run_id']\n",
    "run_status = run['status']\n",
    "print('This flow can be monitored in the Web App:')\n",
    "print(f'https://app.globus.org/runs/{run_id}')\n",
    "print(f'Flow run started with ID: {run_id} - Status: {run_status}')\n",
    "\n",
    "# Poll the Flow service to check on the status of the flow\n",
    "while run_status == 'ACTIVE':\n",
    "    time.sleep(5)\n",
    "    run = flows_client.get_run(run_id)\n",
    "    run_status = run['status']\n",
    "    print(f'Run status: {run_status}')\n",
    "\n",
    "# Run completed\n",
    "print(json.dumps(run.data, indent=2))"
   ]
  },
  {
   "cell_type": "markdown",
   "metadata": {},
   "source": []
  }
 ],
 "metadata": {
  "kernelspec": {
   "display_name": ".venv",
   "language": "python",
   "name": "python3"
  },
  "language_info": {
   "codemirror_mode": {
    "name": "ipython",
    "version": 3
   },
   "file_extension": ".py",
   "mimetype": "text/x-python",
   "name": "python",
   "nbconvert_exporter": "python",
   "pygments_lexer": "ipython3",
   "version": "3.11.9"
  }
 },
 "nbformat": 4,
 "nbformat_minor": 2
}
