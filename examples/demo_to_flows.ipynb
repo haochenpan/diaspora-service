{
 "cells": [
  {
   "cell_type": "markdown",
   "metadata": {},
   "source": [
    "# Action Provider Demo: send requests to Globus Flows\n",
    "Adapted from https://github.com/globus/globus-jupyter-notebooks/blob/master/Automation_Using_Globus_Flows.ipynb"
   ]
  },
  {
   "cell_type": "markdown",
   "metadata": {},
   "source": [
    "## 1. Setup"
   ]
  },
  {
   "cell_type": "markdown",
   "metadata": {},
   "source": [
    "### 1.1 Log in with Globus Auth identity"
   ]
  },
  {
   "cell_type": "code",
   "execution_count": null,
   "metadata": {},
   "outputs": [],
   "source": [
    "\"\"\"Use Diaspora AP in Globus Flows.\"\"\"\n",
    "\n",
    "from __future__ import annotations\n",
    "\n",
    "import json\n",
    "import time\n",
    "import uuid\n",
    "\n",
    "import globus_sdk\n",
    "import globus_sdk.scopes\n",
    "from diaspora_event_sdk import Client as GlobusClient\n",
    "\n",
    "# ID of this tutorial notebook as registered with Globus Auth\n",
    "CLIENT_ID = 'f794186b-f330-4595-b6c6-9c9d3e903e47'\n",
    "\n",
    "# Do a native app authentication flow to get tokens that allow us\n",
    "# to interact with the Globus Flows service\n",
    "\n",
    "scopes = [\n",
    "    'openid',\n",
    "    'profile',\n",
    "    'email',\n",
    "    globus_sdk.FlowsClient.scopes.manage_flows,\n",
    "    globus_sdk.FlowsClient.scopes.run_manage,\n",
    "]\n",
    "native_auth_client = globus_sdk.NativeAppAuthClient(CLIENT_ID)\n",
    "native_auth_client.oauth2_start_flow(requested_scopes=scopes)\n",
    "print(f'Login Here:\\n\\n{native_auth_client.oauth2_get_authorize_url()}')\n",
    "\n",
    "auth_code = input('Authorization Code: ')\n",
    "response = native_auth_client.oauth2_exchange_code_for_tokens(auth_code)\n",
    "\n",
    "tokens = response.by_resource_server\n",
    "print(json.dumps(tokens, indent=2))\n",
    "\n",
    "flows_authorizer = globus_sdk.AccessTokenAuthorizer(\n",
    "    access_token=tokens['flows.globus.org']['access_token'],\n",
    ")\n",
    "flows_client = globus_sdk.FlowsClient(authorizer=flows_authorizer)\n",
    "\n",
    "# Create an Auth client so we can look up identities\n",
    "auth_authorizer = globus_sdk.AccessTokenAuthorizer(\n",
    "    access_token=tokens['auth.globus.org']['access_token'],\n",
    ")\n",
    "ac = globus_sdk.AuthClient(authorizer=auth_authorizer)\n",
    "\n",
    "# Get the user's primary identity\n",
    "primary_identity = ac.oauth2_userinfo()\n",
    "identity_id = primary_identity['sub']\n",
    "\n",
    "print(f'Username: {primary_identity[\"preferred_username\"]}')\n",
    "print(f'ID: {identity_id}')"
   ]
  },
  {
   "cell_type": "markdown",
   "metadata": {},
   "source": [
    "### 1.2 Select a Topic"
   ]
  },
  {
   "cell_type": "code",
   "execution_count": null,
   "metadata": {},
   "outputs": [],
   "source": [
    "c = GlobusClient()\n",
    "print(\"User's OpenID:\", c.subject_openid)\n",
    "topic = 'topic-' + c.subject_openid[-12:]\n",
    "print(c.register_topic(topic))\n",
    "print(c.list_topics())\n",
    "print('Topic to produce/consume:', topic)"
   ]
  },
  {
   "cell_type": "markdown",
   "metadata": {},
   "source": [
    "### 1.3 Helper functions"
   ]
  },
  {
   "cell_type": "code",
   "execution_count": null,
   "metadata": {},
   "outputs": [],
   "source": [
    "action_url = 'https://diaspora-action-provider.ml22sevubfnks.us-east-1.cs.amazonlightsail.com/'\n",
    "\n",
    "\n",
    "def run_flow(specific_flow_client, flow_input):  # noqa: D103\n",
    "    run_label = f'Diaspora AP Flow by {primary_identity[\"preferred_username\"]}'\n",
    "    run = specific_flow_client.run_flow(\n",
    "        body=flow_input,\n",
    "        label=run_label,\n",
    "        tags=['tutorial', 'diaspora'],\n",
    "    )\n",
    "\n",
    "    # Get run details\n",
    "    run_id = run['run_id']\n",
    "    run_status = run['status']\n",
    "    print('This flow can be monitored in the Web App:')\n",
    "    print(f'https://app.globus.org/runs/{run_id}')\n",
    "    print(f'Flow run started with ID: {run_id} - Status: {run_status}')\n",
    "\n",
    "    # Poll the Flow service to check on the status of the flow\n",
    "    counter, max_count = 0, 6\n",
    "    while run_status == 'ACTIVE' and counter < max_count:\n",
    "        time.sleep(5)\n",
    "        run = flows_client.get_run(run_id)\n",
    "        run_status = run['status']\n",
    "        print(f'Run status: {run_status}')\n",
    "        counter += 1\n",
    "\n",
    "    # Run completed\n",
    "    # print(json.dumps(run.data, indent=2))\n",
    "    print(run.data)\n",
    "    return run.data"
   ]
  },
  {
   "cell_type": "markdown",
   "metadata": {},
   "source": [
    "## 2.1 Produce a single message to AP with `key` and `value`"
   ]
  },
  {
   "cell_type": "markdown",
   "metadata": {},
   "source": [
    "### 2.1.1 Produce a single message to AP without `key`"
   ]
  },
  {
   "cell_type": "code",
   "execution_count": null,
   "metadata": {},
   "outputs": [],
   "source": [
    "flow_definition211 = {\n",
    "    'Comment': 'Publish messages to Diaspora Event Fabric',\n",
    "    'StartAt': 'PublishMessages',\n",
    "    'States': {\n",
    "        'PublishMessages': {\n",
    "            'Comment': 'Send messages to a specified topic in Diaspora',\n",
    "            'Type': 'Action',\n",
    "            'ActionUrl': action_url,\n",
    "            'Parameters': {\n",
    "                'action.$': '$.input.action',\n",
    "                'topic.$': '$.input.topic',\n",
    "                'value.$': '$.input.value',\n",
    "            },\n",
    "            'ResultPath': '$.PublishMessages',\n",
    "            'End': True,\n",
    "        },\n",
    "    },\n",
    "}"
   ]
  },
  {
   "cell_type": "code",
   "execution_count": null,
   "metadata": {},
   "outputs": [],
   "source": [
    "flow_title = f'Diapora-AP-Flow-{str(uuid.uuid4())[:4]}'\n",
    "flow = flows_client.create_flow(\n",
    "    title=flow_title,\n",
    "    definition=flow_definition211,\n",
    "    input_schema={},\n",
    ")\n",
    "flow_id = flow['id']\n",
    "flow_scope = globus_sdk.SpecificFlowClient(flow_id).scopes.make_mutable('user')\n",
    "print(f\"Successfully created flow: '{flow_title} (ID: {flow_id})\")\n",
    "print(f'View the flow in the Web App: https://app.globus.org/flows/{flow_id}')\n",
    "\n",
    "if flow_id not in tokens:\n",
    "    # Do a native app authentication flow and get tokens that\n",
    "    # include the newly deployed flow scope\n",
    "    native_auth_client = globus_sdk.NativeAppAuthClient(CLIENT_ID)\n",
    "    native_auth_client.oauth2_start_flow(requested_scopes=flow_scope)\n",
    "    print(f'Login Here:\\n\\n{native_auth_client.oauth2_get_authorize_url()}')\n",
    "\n",
    "    # Authenticate and come back with your authorization code;\n",
    "    # paste it into the prompt below.\n",
    "    auth_code = input('Authorization Code: ')\n",
    "    token_response = native_auth_client.oauth2_exchange_code_for_tokens(\n",
    "        auth_code,\n",
    "    )\n",
    "\n",
    "    # Save the new token in a place where the flows client can retrieve it.\n",
    "    tokens[flow_id] = token_response.by_resource_server[flow_id]\n",
    "\n",
    "    # These are the saved scopes for the flow\n",
    "    # print(json.dumps(tokens, indent=2))\n",
    "\n",
    "# Get a client for the flow\n",
    "specific_flow_authorizer = globus_sdk.AccessTokenAuthorizer(\n",
    "    access_token=tokens[flow_id]['access_token'],\n",
    ")\n",
    "# print(tokens[flow_id]['access_token'])\n",
    "specific_flow_client = globus_sdk.SpecificFlowClient(\n",
    "    flow_id=flow_id,\n",
    "    authorizer=specific_flow_authorizer,\n",
    ")"
   ]
  },
  {
   "cell_type": "code",
   "execution_count": null,
   "metadata": {},
   "outputs": [],
   "source": [
    "flow_input211 = {\n",
    "    'input': {\n",
    "        'action': 'produce',\n",
    "        'topic': topic,\n",
    "        'value': {'content': 'hello world1'},\n",
    "    },\n",
    "}\n",
    "run_data = run_flow(specific_flow_client, flow_input211)\n",
    "assert run_data['status'] == 'SUCCEEDED'"
   ]
  },
  {
   "cell_type": "markdown",
   "metadata": {},
   "source": [
    "### 2.1.2 Produce a single message to AP with `key`"
   ]
  },
  {
   "cell_type": "code",
   "execution_count": null,
   "metadata": {},
   "outputs": [],
   "source": [
    "flow_definition212 = {\n",
    "    'Comment': 'Publish messages to Diaspora Event Fabric',\n",
    "    'StartAt': 'PublishMessages',\n",
    "    'States': {\n",
    "        'PublishMessages': {\n",
    "            'Comment': 'Send messages to a specified topic in Diaspora',\n",
    "            'Type': 'Action',\n",
    "            'ActionUrl': action_url,\n",
    "            'Parameters': {\n",
    "                'action.$': '$.input.action',\n",
    "                'topic.$': '$.input.topic',\n",
    "                'key.$': '$.input.key',\n",
    "                'value.$': '$.input.value',\n",
    "            },\n",
    "            'ResultPath': '$.PublishMessages',\n",
    "            'End': True,\n",
    "        },\n",
    "    },\n",
    "}\n",
    "flows_client.update_flow(\n",
    "    flow_id,\n",
    "    definition=flow_definition212,\n",
    "    input_schema={},\n",
    ")"
   ]
  },
  {
   "cell_type": "code",
   "execution_count": null,
   "metadata": {},
   "outputs": [],
   "source": [
    "flow_input212 = {\n",
    "    'input': {\n",
    "        'action': 'produce',\n",
    "        'topic': topic,\n",
    "        'key': 'my-key-123',\n",
    "        'value': {'content': 'hello world1'},\n",
    "    },\n",
    "}\n",
    "run_data = run_flow(specific_flow_client, flow_input212)\n",
    "assert run_data['status'] == 'SUCCEEDED'"
   ]
  },
  {
   "cell_type": "markdown",
   "metadata": {},
   "source": [
    "## 2.2 Produce a batch of messages to AP with `keys` and `msgs`"
   ]
  },
  {
   "cell_type": "markdown",
   "metadata": {},
   "source": [
    "### 2.2.1 Produce messages to AP without keys"
   ]
  },
  {
   "cell_type": "code",
   "execution_count": null,
   "metadata": {},
   "outputs": [],
   "source": [
    "flow_definition221 = {\n",
    "    'Comment': 'Publish messages to Diaspora Event Fabric',\n",
    "    'StartAt': 'PublishMessages',\n",
    "    'States': {\n",
    "        'PublishMessages': {\n",
    "            'Comment': 'Send messages to a specified topic in Diaspora',\n",
    "            'Type': 'Action',\n",
    "            'ActionUrl': action_url,\n",
    "            'Parameters': {\n",
    "                'action.$': '$.input.action',\n",
    "                'topic.$': '$.input.topic',\n",
    "                'msgs.$': '$.input.msgs',\n",
    "            },\n",
    "            'ResultPath': '$.PublishMessages',\n",
    "            'End': True,\n",
    "        },\n",
    "    },\n",
    "}\n",
    "flows_client.update_flow(\n",
    "    flow_id,\n",
    "    definition=flow_definition221,\n",
    "    input_schema={},\n",
    ")"
   ]
  },
  {
   "cell_type": "code",
   "execution_count": null,
   "metadata": {},
   "outputs": [],
   "source": [
    "flow_input221 = {\n",
    "    'input': {\n",
    "        'action': 'produce',\n",
    "        'topic': topic,\n",
    "        'msgs': [\n",
    "            {'content': 'hello world1'},\n",
    "            {'content': 'hello world2'},\n",
    "            {'content': 'hello world3'},\n",
    "        ],\n",
    "    },\n",
    "}\n",
    "run_data = run_flow(specific_flow_client, flow_input221)\n",
    "assert run_data['status'] == 'SUCCEEDED'"
   ]
  },
  {
   "cell_type": "markdown",
   "metadata": {},
   "source": [
    "### 2.2.2 Produce messages to AP with a key"
   ]
  },
  {
   "cell_type": "code",
   "execution_count": null,
   "metadata": {},
   "outputs": [],
   "source": [
    "flow_definition222 = {\n",
    "    'Comment': 'Publish messages to Diaspora Event Fabric',\n",
    "    'StartAt': 'PublishMessages',\n",
    "    'States': {\n",
    "        'PublishMessages': {\n",
    "            'Comment': 'Send messages to a specified topic in Diaspora',\n",
    "            'Type': 'Action',\n",
    "            'ActionUrl': action_url,\n",
    "            'Parameters': {\n",
    "                'action.$': '$.input.action',\n",
    "                'topic.$': '$.input.topic',\n",
    "                'msgs.$': '$.input.msgs',\n",
    "                'keys.$': '$.input.keys',\n",
    "            },\n",
    "            'ResultPath': '$.PublishMessages',\n",
    "            'End': True,\n",
    "        },\n",
    "    },\n",
    "}\n",
    "flows_client.update_flow(\n",
    "    flow_id,\n",
    "    definition=flow_definition222,\n",
    "    input_schema={},\n",
    ")"
   ]
  },
  {
   "cell_type": "code",
   "execution_count": null,
   "metadata": {},
   "outputs": [],
   "source": [
    "flow_input222 = {\n",
    "    'input': {\n",
    "        'action': 'produce',\n",
    "        'topic': topic,\n",
    "        'msgs': [\n",
    "            {'content': 'hello world1'},\n",
    "            {'content': 'hello world2'},\n",
    "            {'content': 'hello world3'},\n",
    "        ],\n",
    "        'keys': 'my-key-123',\n",
    "    },\n",
    "}\n",
    "run_data = run_flow(specific_flow_client, flow_input222)\n",
    "assert run_data['status'] == 'SUCCEEDED'"
   ]
  },
  {
   "cell_type": "markdown",
   "metadata": {},
   "source": [
    "### 2.2.3 Produce messages to AP with a list of keys"
   ]
  },
  {
   "cell_type": "code",
   "execution_count": null,
   "metadata": {},
   "outputs": [],
   "source": [
    "flow_input223 = {\n",
    "    'input': {\n",
    "        'action': 'produce',\n",
    "        'topic': topic,\n",
    "        'msgs': [\n",
    "            {'content': 'hello world1'},\n",
    "            {'content': 'hello world2'},\n",
    "            {'content': 'hello world3'},\n",
    "        ],\n",
    "        'keys': [\n",
    "            'my-key-123',\n",
    "            'my-key-456',\n",
    "            'my-key-789',\n",
    "        ],\n",
    "    },\n",
    "}\n",
    "run_data = run_flow(specific_flow_client, flow_input223)\n",
    "assert run_data['status'] == 'SUCCEEDED'"
   ]
  },
  {
   "cell_type": "markdown",
   "metadata": {},
   "source": [
    "## 3.1 Blocking consume returns `ACTIVE`, produce more events to unblock it"
   ]
  },
  {
   "cell_type": "code",
   "execution_count": null,
   "metadata": {},
   "outputs": [],
   "source": [
    "one_hour_ago = (int(time.time()) - 3600) * 1000"
   ]
  },
  {
   "cell_type": "markdown",
   "metadata": {},
   "source": [
    "### 3.1.1 Consume messages within one hour (with `ts`, with `group_id`)"
   ]
  },
  {
   "cell_type": "code",
   "execution_count": null,
   "metadata": {},
   "outputs": [],
   "source": [
    "flow_definition311 = {\n",
    "    'Comment': 'Consume messages to Diaspora Event Fabric',\n",
    "    'StartAt': 'ConsumeMessages',\n",
    "    'States': {\n",
    "        'ConsumeMessages': {\n",
    "            'Comment': 'Receive messages from a specified topic in Diaspora',\n",
    "            'Type': 'Action',\n",
    "            'ActionUrl': action_url,\n",
    "            'Parameters': {\n",
    "                'action.$': '$.input.action',\n",
    "                'topic.$': '$.input.topic',\n",
    "                'ts.$': '$.input.ts',\n",
    "                'group_id.$': '$.input.group_id',\n",
    "            },\n",
    "            'ResultPath': '$.ConsumeMessages',\n",
    "            'End': True,\n",
    "        },\n",
    "    },\n",
    "}\n",
    "\n",
    "flows_client.update_flow(\n",
    "    flow_id,\n",
    "    definition=flow_definition311,\n",
    "    input_schema={},\n",
    ")"
   ]
  },
  {
   "cell_type": "code",
   "execution_count": null,
   "metadata": {},
   "outputs": [],
   "source": [
    "flow_input311 = {\n",
    "    'input': {\n",
    "        'action': 'consume',\n",
    "        'topic': topic,\n",
    "        'ts': one_hour_ago,\n",
    "        'group_id': 'my-group-1234',\n",
    "    },\n",
    "}\n",
    "run_data = run_flow(specific_flow_client, flow_input311)\n",
    "assert run_data['status'] == 'SUCCEEDED'"
   ]
  },
  {
   "cell_type": "markdown",
   "metadata": {},
   "source": [
    "### 3.1.2 The same request body returns `ACTIVE` status with no message"
   ]
  },
  {
   "cell_type": "code",
   "execution_count": null,
   "metadata": {},
   "outputs": [],
   "source": [
    "run_data = run_flow(specific_flow_client, flow_input311)\n",
    "assert run_data['status'] == 'ACTIVE'\n",
    "consume_run_id = run_data['run_id']"
   ]
  },
  {
   "cell_type": "markdown",
   "metadata": {},
   "source": [
    "### 3.1.3 Produce a few more messages"
   ]
  },
  {
   "cell_type": "code",
   "execution_count": null,
   "metadata": {},
   "outputs": [],
   "source": [
    "flow_definition313 = {\n",
    "    'Comment': 'Publish messages to Diaspora Event Fabric',\n",
    "    'StartAt': 'PublishMessages',\n",
    "    'States': {\n",
    "        'PublishMessages': {\n",
    "            'Comment': 'Send messages to a specified topic in Diaspora',\n",
    "            'Type': 'Action',\n",
    "            'ActionUrl': action_url,\n",
    "            'Parameters': {\n",
    "                'action.$': '$.input.action',\n",
    "                'topic.$': '$.input.topic',\n",
    "                'msgs.$': '$.input.msgs',\n",
    "            },\n",
    "            'ResultPath': '$.PublishMessages',\n",
    "            'End': True,\n",
    "        },\n",
    "    },\n",
    "}\n",
    "flows_client.update_flow(\n",
    "    flow_id,\n",
    "    definition=flow_definition313,\n",
    "    input_schema={},\n",
    ")"
   ]
  },
  {
   "cell_type": "code",
   "execution_count": null,
   "metadata": {},
   "outputs": [],
   "source": [
    "flow_input313 = {\n",
    "    'input': {\n",
    "        'action': 'produce',\n",
    "        'topic': topic,\n",
    "        'msgs': [\n",
    "            {'content': 'hello world1'},\n",
    "            {'content': 'hello world2'},\n",
    "            {'content': 'hello world3'},\n",
    "        ],\n",
    "    },\n",
    "}\n",
    "run_data = run_flow(specific_flow_client, flow_input313)\n",
    "assert run_data['status'] == 'SUCCEEDED'"
   ]
  },
  {
   "cell_type": "markdown",
   "metadata": {},
   "source": [
    "### 3.1.4 Inspect the consumer request, which should be finished shortly."
   ]
  },
  {
   "cell_type": "code",
   "execution_count": null,
   "metadata": {},
   "outputs": [],
   "source": [
    "run_data = flows_client.get_run(consume_run_id)\n",
    "print(run_data)\n",
    "assert run_data['status'] == 'SUCCEEDED'"
   ]
  },
  {
   "cell_type": "markdown",
   "metadata": {},
   "source": [
    "### 3.1.5 Unfinished runs can be cancelled, and finished runs can be released"
   ]
  },
  {
   "cell_type": "code",
   "execution_count": null,
   "metadata": {},
   "outputs": [],
   "source": [
    "# TODO"
   ]
  },
  {
   "cell_type": "markdown",
   "metadata": {},
   "source": [
    "## 3.2 Consume with filters\n",
    "\n",
    "`filters` specifies a list of filters, an event must meet all conditions of at least one filter for it to be returned.\n",
    "\n",
    "`filters` can be used with `ts` or `group_id` or both."
   ]
  },
  {
   "cell_type": "code",
   "execution_count": null,
   "metadata": {},
   "outputs": [],
   "source": [
    "flow_definition321 = {\n",
    "    'Comment': 'Consume messages to Diaspora Event Fabric',\n",
    "    'StartAt': 'ConsumeMessages',\n",
    "    'States': {\n",
    "        'ConsumeMessages': {\n",
    "            'Comment': 'Receive messages from a specified topic in Diaspora',\n",
    "            'Type': 'Action',\n",
    "            'ActionUrl': action_url,\n",
    "            'Parameters': {\n",
    "                'action.$': '$.input.action',\n",
    "                'topic.$': '$.input.topic',\n",
    "                'filters.$': '$.input.filters',\n",
    "            },\n",
    "            'ResultPath': '$.ConsumeMessages',\n",
    "            'End': True,\n",
    "        },\n",
    "    },\n",
    "}\n",
    "\n",
    "flows_client.update_flow(\n",
    "    flow_id,\n",
    "    definition=flow_definition321,\n",
    "    input_schema={},\n",
    ")"
   ]
  },
  {
   "cell_type": "markdown",
   "metadata": {},
   "source": [
    "Here, an event is returned if its `content` meets one of the two filters:\n",
    "\n",
    "filter 1: events with prefix `hello world1`\n",
    "\n",
    "filter 2: events with prefix `hello` AND suffix `world2`"
   ]
  },
  {
   "cell_type": "code",
   "execution_count": null,
   "metadata": {},
   "outputs": [],
   "source": [
    "flow_input321 = {\n",
    "    'input': {\n",
    "        'action': 'consume',\n",
    "        'topic': topic,\n",
    "        'filters': [\n",
    "            {'Pattern': {'value': {'content': [{'prefix': 'hello world1'}]}}},\n",
    "            {\n",
    "                'Pattern': {\n",
    "                    'value': {\n",
    "                        'content': [\n",
    "                            {'prefix': 'hello', 'suffix': 'world2'},\n",
    "                        ],\n",
    "                    },\n",
    "                },\n",
    "            },\n",
    "        ],\n",
    "    },\n",
    "}\n",
    "run_data = run_flow(specific_flow_client, flow_input321)\n",
    "assert run_data['status'] == 'SUCCEEDED'"
   ]
  }
 ],
 "metadata": {
  "kernelspec": {
   "display_name": ".venv",
   "language": "python",
   "name": "python3"
  },
  "language_info": {
   "codemirror_mode": {
    "name": "ipython",
    "version": 3
   },
   "file_extension": ".py",
   "mimetype": "text/x-python",
   "name": "python",
   "nbconvert_exporter": "python",
   "pygments_lexer": "ipython3",
   "version": "3.11.9"
  }
 },
 "nbformat": 4,
 "nbformat_minor": 2
}
